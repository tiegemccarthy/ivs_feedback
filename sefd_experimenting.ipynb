{
 "cells": [
  {
   "cell_type": "code",
   "execution_count": 1,
   "metadata": {},
   "outputs": [],
   "source": [
    "import numpy as np\n",
    "from numpy.random import randint\n",
    "import scipy.optimize\n",
    "\n",
    "# Removed random right-hand side values and changed nomenclature a bit.\n",
    "def f(x):\n",
    "    x1, x2, x3, x4 = x\n",
    "    return np.asarray((x1*x2,x1*x3,x1*x4,x2*x3,x2*x4,x3*x4))\n",
    "\n",
    "# The second parameter is used to set the solution vector using the args\n",
    "# argument of leastsq.\n",
    "def system(x,b):\n",
    "    return (f(x)-b)\n",
    "\n",
    "b = np.array([2,3,4,6,8,12])\n",
    "# this b array should end up giving x1, x2, x3, x4 = 1, 2, 3, 4\n",
    "x = scipy.optimize.leastsq(system, np.asarray((2,2,2,2)), args=b)[0]"
   ]
  },
  {
   "cell_type": "code",
   "execution_count": 2,
   "metadata": {},
   "outputs": [
    {
     "name": "stdout",
     "output_type": "stream",
     "text": [
      "[0.344641, 0.42078699, 0.75974698, 0.50802347, 0.55354871, 0.48954548]\n"
     ]
    }
   ],
   "source": [
    "test = [0.344641,0.42078699,0.75974698, 0.50802347, 0.55354871, 0.48954548]\n",
    "print(test)"
   ]
  },
  {
   "cell_type": "code",
   "execution_count": 3,
   "metadata": {},
   "outputs": [
    {
     "name": "stdout",
     "output_type": "stream",
     "text": [
      "[0.72940063 0.60663532 0.60376139 0.93750455]\n"
     ]
    }
   ],
   "source": [
    "import numpy as np\n",
    "from numpy.random import randint\n",
    "import scipy.optimize\n",
    "\n",
    "# Removed random right-hand side values and changed nomenclature a bit.\n",
    "def f(x):\n",
    "    x1, x2, x3, x4 = x\n",
    "    return np.asarray((x1*x2,x1*x3,x1*x4,x2*x3,x2*x4,x3*x4))\n",
    "\n",
    "# The second parameter is used to set the solution vector using the args\n",
    "# argument of leastsq.\n",
    "def system(x,b):\n",
    "    return (f(x)-b)\n",
    "\n",
    "b = test#np.array([2,3,4,6,8,12])\n",
    "# this b array should end up giving x1, x2, x3, x4 = 1, 2, 3, 4\n",
    "x = scipy.optimize.leastsq(system, np.asarray((2,2,2,2)), args=b)[0]\n",
    "print(x)"
   ]
  },
  {
   "cell_type": "code",
   "execution_count": 4,
   "metadata": {},
   "outputs": [
    {
     "name": "stdout",
     "output_type": "stream",
     "text": [
      "[0.70557874 0.58009127 0.6040317  0.96136476]\n"
     ]
    }
   ],
   "source": [
    "test_extra = [0.344641, 0.344641,  0.42078699, 0.75974698, 0.50802347, 0.55354871, 0.48954548]\n",
    "\n",
    "import numpy as np\n",
    "from numpy.random import randint\n",
    "import scipy.optimize\n",
    "\n",
    "# Removed random right-hand side values and changed nomenclature a bit.\n",
    "def f(x):\n",
    "    x1, x2, x3, x4 = x\n",
    "    return np.asarray((x1*x2,x1*x2,x1*x3,x1*x4,x2*x3,x2*x4,x3*x4))\n",
    "\n",
    "# The second parameter is used to set the solution vector using the args\n",
    "# argument of leastsq.\n",
    "def system(x,b):\n",
    "    return (f(x)-b)\n",
    "\n",
    "b = test_extra#np.array([2,3,4,6,8,12])\n",
    "# this b array should end up giving x1, x2, x3, x4 = 1, 2, 3, 4\n",
    "x = scipy.optimize.leastsq(system, np.asarray((2,2,2,2)), args=b)[0]\n",
    "print(x)"
   ]
  },
  {
   "cell_type": "code",
   "execution_count": 5,
   "metadata": {},
   "outputs": [
    {
     "name": "stdout",
     "output_type": "stream",
     "text": [
      "[0.48739597634982584, 0.42078699, 0.75974698, 0.50802347, 0.55354871, 0.48954548]\n"
     ]
    }
   ],
   "source": [
    "test_2 = [np.sqrt(2)*0.344641, 0.42078699, 0.75974698, 0.50802347, 0.55354871, 0.48954548]\n",
    "print(test_2)"
   ]
  },
  {
   "cell_type": "code",
   "execution_count": 6,
   "metadata": {},
   "outputs": [
    {
     "name": "stdout",
     "output_type": "stream",
     "text": [
      "[0.70557874 0.58009127 0.6040317  0.96136476]\n"
     ]
    }
   ],
   "source": [
    "import numpy as np\n",
    "from numpy.random import randint\n",
    "import scipy.optimize\n",
    "\n",
    "# Removed random right-hand side values and changed nomenclature a bit.\n",
    "def f(x):\n",
    "    x1, x2, x3, x4 = x\n",
    "    return np.asarray((np.sqrt(2)*x1*x2,x1*x3,x1*x4,x2*x3,x2*x4,x3*x4))\n",
    "\n",
    "# The second parameter is used to set the solution vector using the args\n",
    "# argument of leastsq.\n",
    "def system(x,b):\n",
    "    return (f(x)-b)\n",
    "\n",
    "b = test_2#np.array([2,3,4,6,8,12])\n",
    "# this b array should end up giving x1, x2, x3, x4 = 1, 2, 3, 4\n",
    "x = scipy.optimize.leastsq(system, np.asarray((2,2,2,2)), args=b)[0]\n",
    "print(x)"
   ]
  },
  {
   "cell_type": "markdown",
   "metadata": {},
   "source": [
    "test 1.5 and test 2 are equivalent!"
   ]
  },
  {
   "cell_type": "code",
   "execution_count": 7,
   "metadata": {},
   "outputs": [
    {
     "name": "stdout",
     "output_type": "stream",
     "text": [
      "[15000, 20000, 17500, 30000, 26250, 35000]\n"
     ]
    }
   ],
   "source": [
    "a = 100\n",
    "b = 150\n",
    "c = 200\n",
    "d = 175\n",
    "\n",
    "arg_array = [a*b, a*c, a*d, b*c, b*d, c*d]\n",
    "print(arg_array)"
   ]
  },
  {
   "cell_type": "code",
   "execution_count": 8,
   "metadata": {},
   "outputs": [
    {
     "name": "stdout",
     "output_type": "stream",
     "text": [
      "[100. 150. 200. 175.]\n"
     ]
    }
   ],
   "source": [
    "import numpy as np\n",
    "from numpy.random import randint\n",
    "import scipy.optimize\n",
    "\n",
    "# Removed random right-hand side values and changed nomenclature a bit.\n",
    "def f(x):\n",
    "    x1, x2, x3, x4 = x\n",
    "    return np.asarray((x1*x2,x1*x3,x1*x4,x2*x3,x2*x4,x3*x4))\n",
    "\n",
    "# The second parameter is used to set the solution vector using the args\n",
    "# argument of leastsq.\n",
    "def system(x,b):\n",
    "    return (f(x)-b)\n",
    "\n",
    "#b = np.array([2,3,4,6,8,12])\n",
    "# this b array should end up giving x1, x2, x3, x4 = 1, 2, 3, 4\n",
    "x = scipy.optimize.leastsq(system, np.asarray((100,100,100,100)), args=arg_array)[0]\n",
    "print(x)"
   ]
  },
  {
   "cell_type": "code",
   "execution_count": 9,
   "metadata": {},
   "outputs": [
    {
     "name": "stdout",
     "output_type": "stream",
     "text": [
      "[15000, 20000, 17500, 30000, 26250, 35000]\n",
      "[ 0.          0.05481519 -0.05514808 -0.02257852 -0.11211544 -0.02575019]\n",
      "[15000.0, 18903.696219887832, 18465.091382070925, 30677.355710825046, 29193.03034362945, 35901.25659861491]\n"
     ]
    }
   ],
   "source": [
    "a = 100\n",
    "b = 150\n",
    "c = 200\n",
    "d = 175\n",
    "\n",
    "arg_array = [a*b, a*c, a*d, b*c, b*d, c*d]\n",
    "print(arg_array)\n",
    "noise = np.random.normal(0,0.05,6)\n",
    "noise[0] = 0\n",
    "noisy_arg_array = []\n",
    "for i in range(0, len(arg_array)):\n",
    "    noisy_data = (1-noise[i])*arg_array[i]\n",
    "    noisy_arg_array.append(noisy_data)\n",
    "print(noise)\n",
    "print(noisy_arg_array)"
   ]
  },
  {
   "cell_type": "code",
   "execution_count": 10,
   "metadata": {},
   "outputs": [
    {
     "name": "stdout",
     "output_type": "stream",
     "text": [
      "[ 97.61927934 157.17903741 193.95519457 185.85506324]\n",
      "15343.704358628474\n"
     ]
    }
   ],
   "source": [
    "import numpy as np\n",
    "from numpy.random import randint\n",
    "import scipy.optimize\n",
    "\n",
    "# Removed random right-hand side values and changed nomenclature a bit.\n",
    "def f(x):\n",
    "    x1, x2, x3, x4 = x\n",
    "    return np.asarray((x1*x2,x1*x3,x1*x4,x2*x3,x2*x4,x3*x4))\n",
    "\n",
    "# The second parameter is used to set the solution vector using the args\n",
    "# argument of leastsq.\n",
    "def system(x,b):\n",
    "    return (f(x)-b)\n",
    "\n",
    "#b = np.array([2,3,4,6,8,12])\n",
    "# this b array should end up giving x1, x2, x3, x4 = 1, 2, 3, 4\n",
    "x = scipy.optimize.leastsq(system, np.asarray((100,100,100,100)), args=noisy_arg_array)[0]\n",
    "print(x)\n",
    "print(x[0]*x[1])"
   ]
  },
  {
   "cell_type": "code",
   "execution_count": 11,
   "metadata": {},
   "outputs": [],
   "source": [
    "noisy_arg_array_2 = noisy_arg_array.copy()\n",
    "noisy_arg_array_2[0] = np.sqrt(100)*noisy_arg_array_2[0]"
   ]
  },
  {
   "cell_type": "code",
   "execution_count": 12,
   "metadata": {},
   "outputs": [
    {
     "name": "stdout",
     "output_type": "stream",
     "text": [
      "[ 96.19881078 156.01780347 194.59042354 186.35277852]\n",
      "15008.727153799517\n"
     ]
    }
   ],
   "source": [
    "\n",
    "import numpy as np\n",
    "from numpy.random import randint\n",
    "import scipy.optimize\n",
    "\n",
    "# Removed random right-hand side values and changed nomenclature a bit.\n",
    "def f(x):\n",
    "    x1, x2, x3, x4 = x\n",
    "    return np.asarray((np.sqrt(100)*x1*x2,x1*x3,x1*x4,x2*x3,x2*x4,x3*x4))\n",
    "\n",
    "# The second parameter is used to set the solution vector using the args\n",
    "# argument of leastsq.\n",
    "def system(x,b):\n",
    "    return (f(x)-b)\n",
    "\n",
    "#b = np.array([2,3,4,6,8,12])\n",
    "# this b array should end up giving x1, x2, x3, x4 = 1, 2, 3, 4\n",
    "x = scipy.optimize.leastsq(system, np.asarray((110,100,100,100)), args=noisy_arg_array_2)[0]\n",
    "print(x)\n",
    "print(x[0]*x[1])"
   ]
  },
  {
   "cell_type": "code",
   "execution_count": 13,
   "metadata": {},
   "outputs": [],
   "source": [
    "noisy_arg_array_3 = noisy_arg_array.copy()\n",
    "noisy_arg_array_3[0] = np.sqrt(1000)*noisy_arg_array_3[0]"
   ]
  },
  {
   "cell_type": "code",
   "execution_count": 14,
   "metadata": {},
   "outputs": [
    {
     "name": "stdout",
     "output_type": "stream",
     "text": [
      "[ 96.16529483 155.9906351  194.60526525 186.36433223]\n",
      "15000.885415121164\n"
     ]
    }
   ],
   "source": [
    "import numpy as np\n",
    "from numpy.random import randint\n",
    "import scipy.optimize\n",
    "\n",
    "# Removed random right-hand side values and changed nomenclature a bit.\n",
    "def f(x):\n",
    "    x1, x2, x3, x4 = x\n",
    "    return np.asarray((np.sqrt(1000)*x1*x2,x1*x3,x1*x4,x2*x3,x2*x4,x3*x4))\n",
    "\n",
    "# The second parameter is used to set the solution vector using the args\n",
    "# argument of leastsq.\n",
    "def system(x,b):\n",
    "    return (f(x)-b)\n",
    "\n",
    "#b = np.array([2,3,4,6,8,12])\n",
    "# this b array should end up giving x1, x2, x3, x4 = 1, 2, 3, 4\n",
    "x = scipy.optimize.leastsq(system, np.asarray((100,100,100,100)), args=noisy_arg_array_3)[0]\n",
    "print(x)\n",
    "print(x[0]*x[1])"
   ]
  },
  {
   "cell_type": "markdown",
   "metadata": {},
   "source": [
    "going to try and recreate what I am doing above but with a weight array in the system definition!"
   ]
  },
  {
   "cell_type": "code",
   "execution_count": 15,
   "metadata": {},
   "outputs": [
    {
     "name": "stdout",
     "output_type": "stream",
     "text": [
      "[ 96.16529483 155.9906351  194.60526526 186.36433222]\n",
      "15000.885415120329\n"
     ]
    }
   ],
   "source": [
    "import numpy as np\n",
    "from numpy.random import randint\n",
    "import scipy.optimize\n",
    "\n",
    "# Removed random right-hand side values and changed nomenclature a bit.\n",
    "def f(x):\n",
    "    x1, x2, x3, x4 = x\n",
    "    return np.asarray((x1*x2,x1*x3,x1*x4,x2*x3,x2*x4,x3*x4))\n",
    "\n",
    "# The second parameter is used to set the solution vector using the args\n",
    "# argument of leastsq.\n",
    "def system(x,w,b):\n",
    "    return w*(f(x)-b)\n",
    "\n",
    "\n",
    "weights = [np.sqrt(1000),1,1,1,1,1]\n",
    "#b = np.array([2,3,4,6,8,12])\n",
    "# this b array should end up giving x1, x2, x3, x4 = 1, 2, 3, 4\n",
    "x = scipy.optimize.leastsq(system, np.asarray((100,100,100,100)), args=(weights,noisy_arg_array))[0]\n",
    "print(x)\n",
    "print(x[0]*x[1])"
   ]
  },
  {
   "cell_type": "markdown",
   "metadata": {},
   "source": [
    "The above weights the equation and the corresponding b value!"
   ]
  },
  {
   "cell_type": "code",
   "execution_count": 16,
   "metadata": {},
   "outputs": [
    {
     "data": {
      "text/plain": [
       "[474341.64902525686,\n",
       " 18903.696219887832,\n",
       " 18465.091382070925,\n",
       " 30677.355710825046,\n",
       " 29193.03034362945,\n",
       " 35901.25659861491]"
      ]
     },
     "execution_count": 16,
     "metadata": {},
     "output_type": "execute_result"
    }
   ],
   "source": [
    "noisy_arg_array_3"
   ]
  },
  {
   "cell_type": "code",
   "execution_count": 17,
   "metadata": {},
   "outputs": [
    {
     "ename": "IndexError",
     "evalue": "index 4 is out of bounds for axis 0 with size 4",
     "output_type": "error",
     "traceback": [
      "\u001b[0;31m---------------------------------------------------------------------------\u001b[0m",
      "\u001b[0;31mIndexError\u001b[0m                                Traceback (most recent call last)",
      "\u001b[0;32m<ipython-input-17-75c7bf412739>\u001b[0m in \u001b[0;36m<module>\u001b[0;34m\u001b[0m\n\u001b[1;32m     14\u001b[0m \u001b[0;31m#b = np.array([2,3,4,6,8,12])\u001b[0m\u001b[0;34m\u001b[0m\u001b[0;34m\u001b[0m\u001b[0;34m\u001b[0m\u001b[0m\n\u001b[1;32m     15\u001b[0m \u001b[0;31m# this b array should end up giving x1, x2, x3, x4 = 1, 2, 3, 4\u001b[0m\u001b[0;34m\u001b[0m\u001b[0;34m\u001b[0m\u001b[0;34m\u001b[0m\u001b[0m\n\u001b[0;32m---> 16\u001b[0;31m \u001b[0mx\u001b[0m \u001b[0;34m=\u001b[0m \u001b[0mscipy\u001b[0m\u001b[0;34m.\u001b[0m\u001b[0moptimize\u001b[0m\u001b[0;34m.\u001b[0m\u001b[0mleastsq\u001b[0m\u001b[0;34m(\u001b[0m\u001b[0msystem\u001b[0m\u001b[0;34m,\u001b[0m \u001b[0mnp\u001b[0m\u001b[0;34m.\u001b[0m\u001b[0masarray\u001b[0m\u001b[0;34m(\u001b[0m\u001b[0;34m(\u001b[0m\u001b[0;36m100\u001b[0m\u001b[0;34m,\u001b[0m\u001b[0;36m100\u001b[0m\u001b[0;34m,\u001b[0m\u001b[0;36m100\u001b[0m\u001b[0;34m,\u001b[0m\u001b[0;36m100\u001b[0m\u001b[0;34m)\u001b[0m\u001b[0;34m)\u001b[0m\u001b[0;34m,\u001b[0m \u001b[0margs\u001b[0m\u001b[0;34m=\u001b[0m\u001b[0mnoisy_arg_array\u001b[0m\u001b[0;34m)\u001b[0m\u001b[0;34m[\u001b[0m\u001b[0;36m0\u001b[0m\u001b[0;34m]\u001b[0m\u001b[0;34m\u001b[0m\u001b[0;34m\u001b[0m\u001b[0m\n\u001b[0m\u001b[1;32m     17\u001b[0m \u001b[0mprint\u001b[0m\u001b[0;34m(\u001b[0m\u001b[0mx\u001b[0m\u001b[0;34m)\u001b[0m\u001b[0;34m\u001b[0m\u001b[0;34m\u001b[0m\u001b[0m\n",
      "\u001b[0;32m/usr/lib/python3.7/site-packages/scipy/optimize/minpack.py\u001b[0m in \u001b[0;36mleastsq\u001b[0;34m(func, x0, args, Dfun, full_output, col_deriv, ftol, xtol, gtol, maxfev, epsfcn, factor, diag)\u001b[0m\n\u001b[1;32m    381\u001b[0m     \u001b[0;32mif\u001b[0m \u001b[0;32mnot\u001b[0m \u001b[0misinstance\u001b[0m\u001b[0;34m(\u001b[0m\u001b[0margs\u001b[0m\u001b[0;34m,\u001b[0m \u001b[0mtuple\u001b[0m\u001b[0;34m)\u001b[0m\u001b[0;34m:\u001b[0m\u001b[0;34m\u001b[0m\u001b[0;34m\u001b[0m\u001b[0m\n\u001b[1;32m    382\u001b[0m         \u001b[0margs\u001b[0m \u001b[0;34m=\u001b[0m \u001b[0;34m(\u001b[0m\u001b[0margs\u001b[0m\u001b[0;34m,\u001b[0m\u001b[0;34m)\u001b[0m\u001b[0;34m\u001b[0m\u001b[0;34m\u001b[0m\u001b[0m\n\u001b[0;32m--> 383\u001b[0;31m     \u001b[0mshape\u001b[0m\u001b[0;34m,\u001b[0m \u001b[0mdtype\u001b[0m \u001b[0;34m=\u001b[0m \u001b[0m_check_func\u001b[0m\u001b[0;34m(\u001b[0m\u001b[0;34m'leastsq'\u001b[0m\u001b[0;34m,\u001b[0m \u001b[0;34m'func'\u001b[0m\u001b[0;34m,\u001b[0m \u001b[0mfunc\u001b[0m\u001b[0;34m,\u001b[0m \u001b[0mx0\u001b[0m\u001b[0;34m,\u001b[0m \u001b[0margs\u001b[0m\u001b[0;34m,\u001b[0m \u001b[0mn\u001b[0m\u001b[0;34m)\u001b[0m\u001b[0;34m\u001b[0m\u001b[0;34m\u001b[0m\u001b[0m\n\u001b[0m\u001b[1;32m    384\u001b[0m     \u001b[0mm\u001b[0m \u001b[0;34m=\u001b[0m \u001b[0mshape\u001b[0m\u001b[0;34m[\u001b[0m\u001b[0;36m0\u001b[0m\u001b[0;34m]\u001b[0m\u001b[0;34m\u001b[0m\u001b[0;34m\u001b[0m\u001b[0m\n\u001b[1;32m    385\u001b[0m \u001b[0;34m\u001b[0m\u001b[0m\n",
      "\u001b[0;32m/usr/lib/python3.7/site-packages/scipy/optimize/minpack.py\u001b[0m in \u001b[0;36m_check_func\u001b[0;34m(checker, argname, thefunc, x0, args, numinputs, output_shape)\u001b[0m\n\u001b[1;32m     24\u001b[0m def _check_func(checker, argname, thefunc, x0, args, numinputs,\n\u001b[1;32m     25\u001b[0m                 output_shape=None):\n\u001b[0;32m---> 26\u001b[0;31m     \u001b[0mres\u001b[0m \u001b[0;34m=\u001b[0m \u001b[0matleast_1d\u001b[0m\u001b[0;34m(\u001b[0m\u001b[0mthefunc\u001b[0m\u001b[0;34m(\u001b[0m\u001b[0;34m*\u001b[0m\u001b[0;34m(\u001b[0m\u001b[0;34m(\u001b[0m\u001b[0mx0\u001b[0m\u001b[0;34m[\u001b[0m\u001b[0;34m:\u001b[0m\u001b[0mnuminputs\u001b[0m\u001b[0;34m]\u001b[0m\u001b[0;34m,\u001b[0m\u001b[0;34m)\u001b[0m \u001b[0;34m+\u001b[0m \u001b[0margs\u001b[0m\u001b[0;34m)\u001b[0m\u001b[0;34m)\u001b[0m\u001b[0;34m)\u001b[0m\u001b[0;34m\u001b[0m\u001b[0;34m\u001b[0m\u001b[0m\n\u001b[0m\u001b[1;32m     27\u001b[0m     \u001b[0;32mif\u001b[0m \u001b[0;34m(\u001b[0m\u001b[0moutput_shape\u001b[0m \u001b[0;32mis\u001b[0m \u001b[0;32mnot\u001b[0m \u001b[0;32mNone\u001b[0m\u001b[0;34m)\u001b[0m \u001b[0;32mand\u001b[0m \u001b[0;34m(\u001b[0m\u001b[0mshape\u001b[0m\u001b[0;34m(\u001b[0m\u001b[0mres\u001b[0m\u001b[0;34m)\u001b[0m \u001b[0;34m!=\u001b[0m \u001b[0moutput_shape\u001b[0m\u001b[0;34m)\u001b[0m\u001b[0;34m:\u001b[0m\u001b[0;34m\u001b[0m\u001b[0;34m\u001b[0m\u001b[0m\n\u001b[1;32m     28\u001b[0m         \u001b[0;32mif\u001b[0m \u001b[0;34m(\u001b[0m\u001b[0moutput_shape\u001b[0m\u001b[0;34m[\u001b[0m\u001b[0;36m0\u001b[0m\u001b[0;34m]\u001b[0m \u001b[0;34m!=\u001b[0m \u001b[0;36m1\u001b[0m\u001b[0;34m)\u001b[0m\u001b[0;34m:\u001b[0m\u001b[0;34m\u001b[0m\u001b[0;34m\u001b[0m\u001b[0m\n",
      "\u001b[0;32m<ipython-input-17-75c7bf412739>\u001b[0m in \u001b[0;36msystem\u001b[0;34m(x, b)\u001b[0m\n\u001b[1;32m     10\u001b[0m \u001b[0;31m# argument of leastsq.\u001b[0m\u001b[0;34m\u001b[0m\u001b[0;34m\u001b[0m\u001b[0;34m\u001b[0m\u001b[0m\n\u001b[1;32m     11\u001b[0m \u001b[0;32mdef\u001b[0m \u001b[0msystem\u001b[0m\u001b[0;34m(\u001b[0m\u001b[0mx\u001b[0m\u001b[0;34m,\u001b[0m\u001b[0mb\u001b[0m\u001b[0;34m)\u001b[0m\u001b[0;34m:\u001b[0m\u001b[0;34m\u001b[0m\u001b[0;34m\u001b[0m\u001b[0m\n\u001b[0;32m---> 12\u001b[0;31m     \u001b[0;32mreturn\u001b[0m \u001b[0;34m(\u001b[0m\u001b[0mf\u001b[0m\u001b[0;34m(\u001b[0m\u001b[0mx\u001b[0m\u001b[0;34m)\u001b[0m\u001b[0;34m-\u001b[0m\u001b[0mb\u001b[0m\u001b[0;34m)\u001b[0m\u001b[0;34m\u001b[0m\u001b[0;34m\u001b[0m\u001b[0m\n\u001b[0m\u001b[1;32m     13\u001b[0m \u001b[0;34m\u001b[0m\u001b[0m\n\u001b[1;32m     14\u001b[0m \u001b[0;31m#b = np.array([2,3,4,6,8,12])\u001b[0m\u001b[0;34m\u001b[0m\u001b[0;34m\u001b[0m\u001b[0;34m\u001b[0m\u001b[0m\n",
      "\u001b[0;32m<ipython-input-17-75c7bf412739>\u001b[0m in \u001b[0;36mf\u001b[0;34m(x)\u001b[0m\n\u001b[1;32m      5\u001b[0m \u001b[0;31m# Removed random right-hand side values and changed nomenclature a bit.\u001b[0m\u001b[0;34m\u001b[0m\u001b[0;34m\u001b[0m\u001b[0;34m\u001b[0m\u001b[0m\n\u001b[1;32m      6\u001b[0m \u001b[0;32mdef\u001b[0m \u001b[0mf\u001b[0m\u001b[0;34m(\u001b[0m\u001b[0mx\u001b[0m\u001b[0;34m)\u001b[0m\u001b[0;34m:\u001b[0m\u001b[0;34m\u001b[0m\u001b[0;34m\u001b[0m\u001b[0m\n\u001b[0;32m----> 7\u001b[0;31m     \u001b[0;32mreturn\u001b[0m \u001b[0mnp\u001b[0m\u001b[0;34m.\u001b[0m\u001b[0masarray\u001b[0m\u001b[0;34m(\u001b[0m\u001b[0;34m(\u001b[0m\u001b[0mx\u001b[0m\u001b[0;34m[\u001b[0m\u001b[0;36m1\u001b[0m\u001b[0;34m]\u001b[0m\u001b[0;34m*\u001b[0m\u001b[0mx\u001b[0m\u001b[0;34m[\u001b[0m\u001b[0;36m2\u001b[0m\u001b[0;34m]\u001b[0m\u001b[0;34m,\u001b[0m\u001b[0mx\u001b[0m\u001b[0;34m[\u001b[0m\u001b[0;36m1\u001b[0m\u001b[0;34m]\u001b[0m\u001b[0;34m*\u001b[0m\u001b[0mx\u001b[0m\u001b[0;34m[\u001b[0m\u001b[0;36m3\u001b[0m\u001b[0;34m]\u001b[0m\u001b[0;34m,\u001b[0m\u001b[0mx\u001b[0m\u001b[0;34m[\u001b[0m\u001b[0;36m1\u001b[0m\u001b[0;34m]\u001b[0m\u001b[0;34m*\u001b[0m\u001b[0mx\u001b[0m\u001b[0;34m[\u001b[0m\u001b[0;36m4\u001b[0m\u001b[0;34m]\u001b[0m\u001b[0;34m,\u001b[0m\u001b[0mx\u001b[0m\u001b[0;34m[\u001b[0m\u001b[0;36m2\u001b[0m\u001b[0;34m]\u001b[0m\u001b[0;34m*\u001b[0m\u001b[0mx\u001b[0m\u001b[0;34m[\u001b[0m\u001b[0;36m3\u001b[0m\u001b[0;34m]\u001b[0m\u001b[0;34m,\u001b[0m\u001b[0mx\u001b[0m\u001b[0;34m[\u001b[0m\u001b[0;36m2\u001b[0m\u001b[0;34m]\u001b[0m\u001b[0;34m*\u001b[0m\u001b[0mx\u001b[0m\u001b[0;34m[\u001b[0m\u001b[0;36m4\u001b[0m\u001b[0;34m]\u001b[0m\u001b[0;34m,\u001b[0m\u001b[0mx\u001b[0m\u001b[0;34m[\u001b[0m\u001b[0;36m3\u001b[0m\u001b[0;34m]\u001b[0m\u001b[0;34m*\u001b[0m\u001b[0mx\u001b[0m\u001b[0;34m[\u001b[0m\u001b[0;36m4\u001b[0m\u001b[0;34m]\u001b[0m\u001b[0;34m)\u001b[0m\u001b[0;34m)\u001b[0m\u001b[0;34m\u001b[0m\u001b[0;34m\u001b[0m\u001b[0m\n\u001b[0m\u001b[1;32m      8\u001b[0m \u001b[0;34m\u001b[0m\u001b[0m\n\u001b[1;32m      9\u001b[0m \u001b[0;31m# The second parameter is used to set the solution vector using the args\u001b[0m\u001b[0;34m\u001b[0m\u001b[0;34m\u001b[0m\u001b[0;34m\u001b[0m\u001b[0m\n",
      "\u001b[0;31mIndexError\u001b[0m: index 4 is out of bounds for axis 0 with size 4"
     ]
    }
   ],
   "source": [
    "import numpy as np\n",
    "from numpy.random import randint\n",
    "import scipy.optimize\n",
    "\n",
    "# Removed random right-hand side values and changed nomenclature a bit.\n",
    "def f(x):\n",
    "    x1, x2, x3, x4 = x\n",
    "    return np.asarray((x1*x2,x1*x3,x1*x4,x2*x3,x2*x4,x3*x4))\n",
    "\n",
    "# The second parameter is used to set the solution vector using the args\n",
    "# argument of leastsq.\n",
    "def system(x,b):\n",
    "    return (f(x)-b)\n",
    "\n",
    "#b = np.array([2,3,4,6,8,12])\n",
    "# this b array should end up giving x1, x2, x3, x4 = 1, 2, 3, 4\n",
    "x = scipy.optimize.leastsq(system, np.asarray((100,100,100,100)), args=noisy_arg_array)[0]\n",
    "print(x)\n"
   ]
  },
  {
   "cell_type": "code",
   "execution_count": null,
   "metadata": {},
   "outputs": [],
   "source": []
  },
  {
   "cell_type": "code",
   "execution_count": null,
   "metadata": {},
   "outputs": [],
   "source": []
  },
  {
   "cell_type": "code",
   "execution_count": null,
   "metadata": {},
   "outputs": [],
   "source": []
  },
  {
   "cell_type": "code",
   "execution_count": null,
   "metadata": {},
   "outputs": [],
   "source": []
  }
 ],
 "metadata": {
  "kernelspec": {
   "display_name": "Python 3",
   "language": "python",
   "name": "python3"
  },
  "language_info": {
   "codemirror_mode": {
    "name": "ipython",
    "version": 3
   },
   "file_extension": ".py",
   "mimetype": "text/x-python",
   "name": "python",
   "nbconvert_exporter": "python",
   "pygments_lexer": "ipython3",
   "version": "3.7.3"
  }
 },
 "nbformat": 4,
 "nbformat_minor": 2
}
