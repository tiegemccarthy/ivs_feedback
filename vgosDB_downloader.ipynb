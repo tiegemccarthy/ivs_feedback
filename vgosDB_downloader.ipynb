{
 "cells": [
  {
   "cell_type": "code",
   "execution_count": 2,
   "metadata": {},
   "outputs": [],
   "source": [
    "from ftplib import FTP\n",
    "import re\n",
    "import os\n",
    "import MySQLdb as mariadb\n",
    "import tarfile\n"
   ]
  },
  {
   "cell_type": "code",
   "execution_count": 3,
   "metadata": {},
   "outputs": [],
   "source": [
    "ftp = FTP('cddis.gsfc.nasa.gov')\n",
    "ftp.login()\n",
    "\n",
    "with open('vgosDB_tags.txt') as file:\n",
    "    vgosDB_tags = file.readlines()\n",
    "    \n",
    "for tag in vgosDB_tags:\n",
    "    year = '20' + tag[0:2]\n",
    "    tag = tag.rstrip()\n",
    "    if os.path.isdir(os.getcwd()+\"/vgosDB_files/\"+ tag):\n",
    "        continue\n",
    "    else:\n",
    "        local_filename = os.path.join(os.getcwd(), \"vgosDB_files/\" + tag + \".tgz\")\n",
    "        lf = open(local_filename, \"wb\")\n",
    "        ftp.retrbinary(\"RETR /vlbi/ivsdata/vgosdb/\" + year + \"/\" + tag + \".tgz\", lf.write)\n",
    "        lf.close()\n",
    "        tar = tarfile.open(\"vgosDB_files/\"+ tag + \".tgz\")\n",
    "        if tag +'/History/'+ tag + '_V000_kMk4.hist' in tar.getnames():\n",
    "            tar.extract(tag +'/History/'+ tag + '_V000_kMk4.hist','./vgosDB_files')\n",
    "            tar.close()\n",
    "        else:\n",
    "            tar.extract(tag + '/History/'+ tag +'_kMK3DB_V001.hist','./vgosDB_files')\n",
    "            tar.close()\n",
    "        os.remove(\"vgosDB_files/\"+ tag + \".tgz\")\n",
    "        \n",
    "        \n",
    "\n",
    "\n",
    "        \n",
    "\n"
   ]
  },
  {
   "cell_type": "code",
   "execution_count": 44,
   "metadata": {},
   "outputs": [],
   "source": [
    "def corrReportDL(exp_id,vgos_tag):\n",
    "    ftp = FTP('cddis.gsfc.nasa.gov')\n",
    "    ftp.login()\n",
    "    year = '20' + str(vgos_tag[0:2])\n",
    "    tag = str(vgos_tag.rstrip())\n",
    "    exp_id = str(exp_id)\n",
    "    if os.path.isfile(os.getcwd()+\"/corr_files/\"+ exp_id + '.corr'):\n",
    "        return\n",
    "    else:\n",
    "        local_filename = os.path.join(os.getcwd(), tag + \".tgz\")\n",
    "        lf = open(local_filename, \"wb\")\n",
    "        ftp.retrbinary(\"RETR /vlbi/ivsdata/vgosdb/\" + year + \"/\" + tag + \".tgz\", lf.write)\n",
    "        lf.close()\n",
    "        tar = tarfile.open(tag + \".tgz\")\n",
    "        if tag +'/History/'+ tag + '_V000_kMk4.hist' in tar.getnames():\n",
    "            member = tar.getmember(tag +'/History/'+ tag + '_V000_kMk4.hist')\n",
    "            member.name = 'corr_files/' + exp_id + '.corr'\n",
    "            tar.extract(member)\n",
    "            tar.close()\n",
    "        else:\n",
    "            member = tar.getmember(tag + '/History/'+ tag +'_kMK3DB_V001.hist')\n",
    "            member.name = 'corr_files/' + exp_id + '.corr'\n",
    "            tar.extract(member)\n",
    "            tar.close()\n",
    "        os.remove(tag + \".tgz\")\n",
    "        return\n"
   ]
  },
  {
   "cell_type": "code",
   "execution_count": 9,
   "metadata": {},
   "outputs": [],
   "source": [
    "ftp = FTP('cddis.gsfc.nasa.gov')\n",
    "ftp.login()\n",
    "\n",
    "with open('vgosDB_tags.txt') as file:\n",
    "    vgosDB_tags = file.readlines()"
   ]
  },
  {
   "cell_type": "code",
   "execution_count": 26,
   "metadata": {},
   "outputs": [
    {
     "name": "stdout",
     "output_type": "stream",
     "text": [
      "19JAN02XA\n",
      "\n"
     ]
    }
   ],
   "source": [
    "print(vgosDB_tags[0])\n",
    "year = '20' + vgosDB_tags[0][0:2]\n",
    "tag = vgosDB_tags[0].rstrip()\n",
    "local_filename = os.path.join(os.getcwd(), \"vgosDB_files/\" + tag + \".tgz\")\n",
    "lf = open(local_filename, \"wb\")\n",
    "ftp.retrbinary(\"RETR /vlbi/ivsdata/vgosdb/\" + year + \"/\" + tag + \".tgz\", lf.write)\n",
    "lf.close()\n",
    "tar = tarfile.open(\"vgosDB_files/\"+ tag + \".tgz\")"
   ]
  },
  {
   "cell_type": "code",
   "execution_count": 27,
   "metadata": {},
   "outputs": [],
   "source": [
    "member = tar.getmember(tag +'/History/'+ tag + '_V000_kMk4.hist')\n",
    "member.name = 'corr_files/test.corr'\n",
    "tar.extract(member)"
   ]
  },
  {
   "cell_type": "code",
   "execution_count": 48,
   "metadata": {},
   "outputs": [],
   "source": [
    "corrReportDL('r1875', '19JAN02XA')"
   ]
  },
  {
   "cell_type": "code",
   "execution_count": null,
   "metadata": {},
   "outputs": [],
   "source": []
  }
 ],
 "metadata": {
  "kernelspec": {
   "display_name": "Python 3",
   "language": "python",
   "name": "python3"
  },
  "language_info": {
   "codemirror_mode": {
    "name": "ipython",
    "version": 3
   },
   "file_extension": ".py",
   "mimetype": "text/x-python",
   "name": "python",
   "nbconvert_exporter": "python",
   "pygments_lexer": "ipython3",
   "version": "3.7.3"
  }
 },
 "nbformat": 4,
 "nbformat_minor": 2
}
