{
 "cells": [
  {
   "cell_type": "code",
   "execution_count": 1,
   "metadata": {},
   "outputs": [],
   "source": [
    "from ftplib import FTP"
   ]
  },
  {
   "cell_type": "code",
   "execution_count": 6,
   "metadata": {},
   "outputs": [
    {
     "name": "stdout",
     "output_type": "stream",
     "text": [
      "220-**********************************************************************\n",
      "220-                 CDDIS Anonymous FTP Archive\n",
      "220-\n",
      "220-By accessing and using this information system, you acknowledge and consent to the following:\n",
      "220-\n",
      "220-You are accessing a U.S. Government information system, which includes: \n",
      "220-(1) this computer; (2) this computer network; (3) all computers connected to this network \n",
      "220-including end user systems; (4) all devices and storage media attached to this network or\n",
      "220-to any computer on this network; and (5) cloud and remote information services. This \n",
      "220-information system is provided for U.S. Government-authorized use only. You have no \n",
      "220-reasonable expectation of privacy regarding any communication transmitted through or data \n",
      "220-stored on this information system.  At any time, and for any lawful purpose, the U.S. \n",
      "220-Government may monitor, intercept, search, and seize any communication or data transiting, \n",
      "220-stored on, or traveling to or from this information system.  You are NOT authorized to \n",
      "220-process classified information on this information system.  Unauthorized or improper use \n",
      "220-of this system may result in suspension or loss of access privileges, disciplinary action, \n",
      "220-and civil and/or criminal penalties.\n",
      "220-\n",
      "220-Please consult the /pub/00readme file for a list of the main\n",
      "220-directories and their contents.\n",
      "220-\n",
      "220-Contact CDDIS Support (support-cddis@earthdata.nasa.gov) for further information.\n",
      "220-**********************************************************************\n",
      "220 \n"
     ]
    },
    {
     "data": {
      "text/plain": [
       "'230 Login successful.'"
      ]
     },
     "execution_count": 6,
     "metadata": {},
     "output_type": "execute_result"
    }
   ],
   "source": [
    "ftp = FTP('cddis.gsfc.nasa.gov')\n",
    "print(ftp.getwelcome())\n",
    "ftp.login()"
   ]
  },
  {
   "cell_type": "code",
   "execution_count": 8,
   "metadata": {},
   "outputs": [
    {
     "data": {
      "text/plain": [
       "'250 Directory successfully changed.'"
      ]
     },
     "execution_count": 8,
     "metadata": {},
     "output_type": "execute_result"
    }
   ],
   "source": [
    "ftp.cwd('vlbi/ivsdata/aux/')"
   ]
  },
  {
   "cell_type": "code",
   "execution_count": 9,
   "metadata": {},
   "outputs": [
    {
     "name": "stdout",
     "output_type": "stream",
     "text": [
      "drwxrwsr-x    3 ftp      ftp          4096 Apr 04  2018 1988\n",
      "drwxrwsr-x    3 ftp      ftp          4096 Jul 31  2018 1991\n",
      "drwxrwsr-x   20 ftp      ftp          4096 Apr 04  2018 1994\n",
      "drwxrwsr-x   20 ftp      ftp          4096 Apr 04  2018 1995\n",
      "drwxrwsr-x   25 ftp      ftp          4096 Apr 04  2018 1996\n",
      "drwxrwsr-x  208 ftp      ftp         16384 Apr 04  2018 1997\n",
      "drwxrwsr-x  353 ftp      ftp         28672 Apr 04  2018 1998\n",
      "drwxrwsr-x  394 ftp      ftp         32768 Jun 19  2019 1999\n",
      "drwxrwsr-x  342 ftp      ftp         28672 Apr 04  2018 2000\n",
      "drwxrwsr-x  368 ftp      ftp         28672 Apr 04  2018 2001\n",
      "drwxrwsr-x  401 ftp      ftp         32768 Apr 04  2018 2002\n",
      "drwxrwsr-x  398 ftp      ftp         32768 Apr 04  2018 2003\n",
      "drwxrwsr-x  470 ftp      ftp         36864 Apr 04  2018 2004\n",
      "drwxrwsr-x  532 ftp      ftp         45056 Apr 04  2018 2005\n",
      "drwxrwsr-x  507 ftp      ftp         40960 Apr 04  2018 2006\n",
      "drwxrwsr-x  522 ftp      ftp         40960 Apr 04  2018 2007\n",
      "drwxrwsr-x  567 ftp      ftp         45056 Apr 04  2018 2008\n",
      "drwxrwsr-x  550 ftp      ftp         45056 Apr 04  2018 2009\n",
      "drwxrwsr-x  532 ftp      ftp         45056 Apr 04  2018 2010\n",
      "drwxrwsr-x  613 ftp      ftp         49152 Apr 04  2018 2011\n",
      "drwxrwsr-x  581 ftp      ftp         45056 Apr 04  2018 2012\n",
      "drwxrwsr-x  537 ftp      ftp         45056 Apr 04  2018 2013\n",
      "drwxrwsr-x  637 ftp      ftp         53248 Apr 04  2018 2014\n",
      "drwxrwsr-x  646 ftp      ftp         53248 Apr 04  2018 2015\n",
      "drwxrwsr-x  633 ftp      ftp         49152 Apr 04  2018 2016\n",
      "drwxrwsr-x  631 ftp      ftp         49152 Apr 04  2018 2017\n",
      "drwxrwsr-x  599 ftp      ftp         49152 May 14  2019 2018\n",
      "drwxrwsr-x  849 ftp      ftp         69632 Dec 23 17:35 2019\n",
      "drwxrwsr-x   24 ftp      ftp          4096 Jan 07 17:35 2020\n"
     ]
    },
    {
     "data": {
      "text/plain": [
       "'226 Directory send OK.'"
      ]
     },
     "execution_count": 9,
     "metadata": {},
     "output_type": "execute_result"
    }
   ],
   "source": [
    "ftp.retrlines('LIST')"
   ]
  },
  {
   "cell_type": "code",
   "execution_count": null,
   "metadata": {},
   "outputs": [],
   "source": []
  }
 ],
 "metadata": {
  "kernelspec": {
   "display_name": "Python 3",
   "language": "python",
   "name": "python3"
  },
  "language_info": {
   "codemirror_mode": {
    "name": "ipython",
    "version": 3
   },
   "file_extension": ".py",
   "mimetype": "text/x-python",
   "name": "python",
   "nbconvert_exporter": "python",
   "pygments_lexer": "ipython3",
   "version": "3.7.3"
  }
 },
 "nbformat": 4,
 "nbformat_minor": 2
}
