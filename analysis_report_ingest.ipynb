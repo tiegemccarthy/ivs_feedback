{
 "cells": [
  {
   "cell_type": "code",
   "execution_count": 27,
   "metadata": {},
   "outputs": [],
   "source": [
    "import re\n",
    "from datetime import datetime"
   ]
  },
  {
   "cell_type": "code",
   "execution_count": 28,
   "metadata": {},
   "outputs": [
    {
     "name": "stdout",
     "output_type": "stream",
     "text": [
      "       IVS Analysis Report for R1840 ($18MAY02XA) \n",
      "       This report is the official IVS analysis report that corresponds to \n",
      "       the database maintained by the IVS Data Centers for this session.  \n",
      "   (Analyzed by David Gordon, Goddard Space Flight Center.\n",
      "    Spoolfile source: interactive solve/nuSolve analysis.) \n",
      "\n",
      "\n",
      "***WARNING:  The correlation statistics \n",
      "             could not be included in this report.\n",
      "             The reason for this failure is:  \n",
      "                $18MAY02XA NOT FOUND IN DATABASE CATALOG (OR HAS NO ENTRIES) ***\n",
      "\n",
      "\n",
      "***WARNING:  Some of the observations that were correlated in X-band \n",
      "             might not have been correlated in S-band. \n",
      "             But the attempt to read the S-band database \n",
      "             in order to check this possibility failed. \n",
      "             Therefore the counts of the correlated observations \n",
      "             and other counts derived from them have not been verified.\n",
      "             The reason for the failure to read the S-band database is:  \n",
      "                $18MAY02SA NOT FOUND IN DATABASE CATALOG (OR HAS NO ENTRIES) ***\n",
      "\n",
      "\n",
      "Problems: YARRA12M has 4 clock breaks: at ~00:43, ~04:36, ~10:17, and ~13:28. \n",
      "          SEJONG has many S-band subambiguities, resulting in a very low yield.\n",
      "          MATERA also has S-band subambiguities.\n",
      "\n",
      "Parameterization comments: None. \n",
      "\n",
      "Other comments: None. \n",
      "\n",
      "-----------------------------------------\n",
      "\n",
      "Session Statistics \n",
      "\n",
      "  Observations:     8014 scheduled \n",
      "                       ? correlated (in database)\n",
      "                    6773 recoverable (usable)\n",
      "                    6041 used\n",
      "  Session fit:        39.027 ps\n",
      "\n",
      "-----------------------------------------\n",
      "\n",
      "Station Performance \n",
      "\n",
      "                           Number of Observations\n",
      "\n",
      "                    Scheduled   Recoverable*        Used   % of scheduled\n",
      "                                                              obs used\n",
      "\n",
      "  HART15M                1151           911          862        74.9%\n",
      "  ISHIOKA                1810          1612         1457        80.5%\n",
      "  KATH12M                1496          1295         1221        81.6%\n",
      "  KOKEE                  1385          1167         1097        79.2%\n",
      "  MATERA                 1571          1282         1073        68.3%\n",
      "  NYALES20               1621          1501         1397        86.2%\n",
      "  ONSALA60               1328          1260         1154        86.9%\n",
      "  SEJONG                 1450           980          511        35.2%\n",
      "  WARK12M                1158           781          739        63.8%\n",
      "  WETTZELL               1652          1522         1418        85.8%\n",
      "  YARRA12M               1406          1235         1153        82.0%\n",
      "  ---------------   ---------   -----------    ---------       ------\n",
      "  Station Total**        8014          6773         6041        75.4%\n",
      "\n",
      "  * Recoverable: can be included in the solution. \n",
      "  ** Total includes distinct observations only.\n",
      "\n",
      "  MISSED:    Station was scheduled, but it did not observe.\n",
      "  NOT CORR:  Station was scheduled but not correlated.\n",
      "  NOT USED:  Usable data was generated for this station,\n",
      "             but the analyst rejected it all.\n",
      "\n",
      "-----------------------------------------\n",
      "\n",
      "Source Performance \n",
      "\n",
      "                    Number of Observations\n",
      "\n",
      "                Scheduled  Correlated*    Used      % of scheduled\n",
      "                                                       obs used\n",
      "\n",
      "  2005+642              6           ?        6          100.0%\n",
      "  1204+399             17           ?       14           82.4%\n",
      "  2301+060              2           ?        2          100.0%\n",
      "  NRAO190              82           ?       28           34.1%\n",
      "  1022-665             18           ?        3           16.7%\n",
      "  1145-071            120           ?       87           72.5%\n",
      "  0454-463             96           ?       75           78.1%\n",
      "  1519-294              3           ?        2           66.7%\n",
      "  0714+457              6           ?        5           83.3%\n",
      "  1722+330              9           ?        8           88.9%\n",
      "  0048-097              1           ?        0            0.0%\n",
      "  0104-408            134           ?      106           79.1%\n",
      "  0119+041             59           ?       51           86.4%\n",
      "  0133+476            424           ?      337           79.5%\n",
      "  CTA26               243           ?      183           75.3%\n",
      "  0454-234            307           ?      230           74.9%\n",
      "  0530-727             13           ?       11           84.6%\n",
      "  0656+082             26           ?       25           96.2%\n",
      "  0718+793            128           ?      103           80.5%\n",
      "  0727-115            445           ?      346           77.8%\n",
      "  0823+033            144           ?      122           84.7%\n",
      "  OJ287               528           ?      403           76.3%\n",
      "  0955+476            395           ?      328           83.0%\n",
      "  1034-293             67           ?       34           50.7%\n",
      "  1144-379            162           ?      123           75.9%\n",
      "  1351-018             44           ?       31           70.5%\n",
      "  1424-418            160           ?      115           71.9%\n",
      "  1606+106             92           ?       81           88.0%\n",
      "  NGC6251              24           ?       17           70.8%\n",
      "  1749+096            228           ?      163           71.5%\n",
      "  2052-474             81           ?       64           79.0%\n",
      "  2113+293             35           ?       24           68.6%\n",
      "  2255-282             42           ?       37           88.1%\n",
      "  0237-027             52           ?       40           76.9%\n",
      "  0800+618             99           ?       71           71.7%\n",
      "  1244-255              3           ?        3          100.0%\n",
      "  1324+224             25           ?       20           80.0%\n",
      "  1846+322             72           ?       68           94.4%\n",
      "  1909+161              1           ?        1          100.0%\n",
      "  2000+472            235           ?      162           68.9%\n",
      "  2215+150            195           ?      168           86.2%\n",
      "  2227-088            350           ?      239           68.3%\n",
      "  0025+197              7           ?        7          100.0%\n",
      "  0340+362              7           ?        3           42.9%\n",
      "  0529+483            169           ?      133           78.7%\n",
      "  1013+127              2           ?        2          100.0%\n",
      "  1053+704             88           ?       81           92.0%\n",
      "  1059+282             14           ?       13           92.9%\n",
      "  1212+171              1           ?        1          100.0%\n",
      "  1327+504             14           ?        9           64.3%\n",
      "  1342+662              7           ?        7          100.0%\n",
      "  1441+252             82           ?       60           73.2%\n",
      "  1520+437              7           ?        3           42.9%\n",
      "  1623+578              9           ?        6           66.7%\n",
      "  2059+034             21           ?       16           76.2%\n",
      "  0723+219              7           ?        6           85.7%\n",
      "  0920-397             20           ?        4           20.0%\n",
      "  1406-267              1           ?        0            0.0%\n",
      "  1656-075             21           ?       12           57.1%\n",
      "  1759-396             57           ?       31           54.4%\n",
      "  0016+731            586           ?      447           76.3%\n",
      "  0206+136              5           ?        2           40.0%\n",
      "  0308-611             68           ?       59           86.8%\n",
      "  0332-403              5           ?        2           40.0%\n",
      "  0347-211             17           ?       13           76.5%\n",
      "  0544+273             14           ?       12           85.7%\n",
      "  0627-199             22           ?       17           77.3%\n",
      "  0925-203            151           ?      106           70.2%\n",
      "  1502+036             35           ?       31           88.6%\n",
      "  1657-261            206           ?       85           41.3%\n",
      "  1806+456            153           ?      122           79.7%\n",
      "  2013+163             50           ?       44           88.0%\n",
      "  0008-264             14           ?       14          100.0%\n",
      "  0202+319            596           ?      497           83.4%\n",
      "  NRAO150              41           ?       29           70.7%\n",
      "  1243-072             19           ?       14           73.7%\n",
      "  1936-155            295           ?      205           69.5%\n",
      "  2126-158             30           ?       12           40.0%\n",
      "  ------------  ---------  ----------   ------          ------\n",
      "  Source Total       8014           ?     6041           75.4%\n",
      "\n",
      " * Correlated: included in database \n",
      "\n",
      "-----------------------------------------\n",
      "\n",
      "Baseline Performance \n",
      "\n",
      "                                 Number of Observations\n",
      "\n",
      "                         Scheduled   Recoverable*         Used   % of scheduled\n",
      "                                                                    obs used\n",
      "\n",
      "  HART15M-ISHIOKA               98            78            78        79.6%\n",
      "  HART15M-KATH12M              108            90            89        82.4%\n",
      "  HART15M-KOKEE                  0      NOT CORR      NOT CORR         0.0%\n",
      "  HART15M-MATERA               207           139           126        60.9%\n",
      "  HART15M-NYALES20              94            77            77        81.9%\n",
      "  HART15M-ONSALA60             145           133           127        87.6%\n",
      "  HART15M-SEJONG                87            48            25        28.7%\n",
      "  HART15M-WARK12M              105            60            60        57.1%\n",
      "  HART15M-WETTZELL             176           169           165        93.8%\n",
      "  HART15M-YARRA12M             131           117           115        87.8%\n",
      "  ISHIOKA-KATH12M              222           218           213        95.9%\n",
      "  ISHIOKA-KOKEE                278           265           260        93.5%\n",
      "  ISHIOKA-MATERA               123           104            91        74.0%\n",
      "  ISHIOKA-NYALES20             211           206           198        93.8%\n",
      "  ISHIOKA-ONSALA60              99            98            94        94.9%\n",
      "  ISHIOKA-SEJONG               295           228           118        40.0%\n",
      "  ISHIOKA-WARK12M              159            99            97        61.0%\n",
      "  ISHIOKA-WETTZELL             144           138           135        93.8%\n",
      "  ISHIOKA-YARRA12M             181           178           173        95.6%\n",
      "  KATH12M-KOKEE                152           143           142        93.4%\n",
      "  KATH12M-MATERA                54            40            35        64.8%\n",
      "  KATH12M-NYALES20              60            56            56        93.3%\n",
      "  KATH12M-ONSALA60              26            26            24        92.3%\n",
      "  KATH12M-SEJONG               208           129            72        34.6%\n",
      "  KATH12M-WARK12M              268           209           209        78.0%\n",
      "  KATH12M-WETTZELL              53            48            48        90.6%\n",
      "  KATH12M-YARRA12M             345           336           333        96.5%\n",
      "  KOKEE-MATERA                  87            60            50        57.5%\n",
      "  KOKEE-NYALES20               198           185           182        91.9%\n",
      "  KOKEE-ONSALA60                73            66            65        89.0%\n",
      "  KOKEE-SEJONG                 159           103            55        34.6%\n",
      "  KOKEE-WARK12M                198           123           122        61.6%\n",
      "  KOKEE-WETTZELL               121           114           114        94.2%\n",
      "  KOKEE-YARRA12M               119           108           107        89.9%\n",
      "  MATERA-NYALES20              272           250           209        76.8%\n",
      "  MATERA-ONSALA60              321           299           251        78.2%\n",
      "  MATERA-SEJONG                 84            43            15        17.9%\n",
      "  MATERA-WARK12M                 2             1    DESELECTED         0.0%\n",
      "  MATERA-WETTZELL              363           301           256        70.5%\n",
      "  MATERA-YARRA12M               58            45            40        69.0%\n",
      "  NYALES20-ONSALA60            257           253           252        98.1%\n",
      "  NYALES20-SEJONG              121            89            42        34.7%\n",
      "  NYALES20-WARK12M              24            17            17        70.8%\n",
      "  NYALES20-WETTZELL            343           330           327        95.3%\n",
      "  NYALES20-YARRA12M             41            38            37        90.2%\n",
      "  ONSALA60-SEJONG               71            62            35        49.3%\n",
      "  ONSALA60-WARK12M               3             3    DESELECTED         0.0%\n",
      "  ONSALA60-WETTZELL            301           289           277        92.0%\n",
      "  ONSALA60-YARRA12M             32            31            29        90.6%\n",
      "  SEJONG-WARK12M               140            66            34        24.3%\n",
      "  SEJONG-WETTZELL               96            81            46        47.9%\n",
      "  SEJONG-YARRA12M              189           131            69        36.5%\n",
      "  WARK12M-WETTZELL               2             2    DESELECTED         0.0%\n",
      "  WARK12M-YARRA12M             257           201           200        77.8%\n",
      "  WETTZELL-YARRA12M             53            50            50        94.3%\n",
      "  -----------------      ---------   -----------    ----------       ------\n",
      "  Baseline Total              8014          6773          6041        75.4%\n",
      "\n",
      "  * Recoverable: can be included in the solution. \n",
      "\n",
      "  MISSED:     Baseline was scheduled, but at least one of the sites\n",
      "              did not observe.\n",
      "  NOT CORR:   Baseline was scheduled but not correlated.\n",
      "  NO DATA:    The baseline's stations were both correlated,\n",
      "              but they did not observe together.\n",
      "  DESELECTED: Usable data was generated for the baseline,\n",
      "              but the analyst rejected it.\n",
      "\n"
     ]
    }
   ],
   "source": [
    "with open('r1840_report.txt') as file:\n",
    "    file_contents = file.read()\n",
    "    print(file_contents)"
   ]
  },
  {
   "cell_type": "code",
   "execution_count": 44,
   "metadata": {},
   "outputs": [],
   "source": [
    "with open('r1875-ivs-analysis-report.txt') as file:\n",
    "    contents = file.read()\n",
    "    sections = contents.split('-----------------------------------------')"
   ]
  },
  {
   "cell_type": "code",
   "execution_count": 45,
   "metadata": {},
   "outputs": [],
   "source": [
    "def problemFinder(text_section):\n",
    "    stations = ['KATH12M', 'YARRA12M', 'HOBART12', 'HOBART26']\n",
    "    problem_bool = []\n",
    "    problem_string = []\n",
    "    for ant in stations:\n",
    "        regex = ant + '.*\\n[\\s]{11}.*|' + ant + '.*$'\n",
    "        problem = re.findall(regex,text_section,re.MULTILINE)\n",
    "        if len(problem) > 0:\n",
    "            problem_bool.append(True)\n",
    "            problem_string.append(problem[0].replace('\\n', \"\"))\n",
    "        else:\n",
    "            problem_bool.append(False)\n",
    "            problem_string.append('')\n",
    "    return problem_bool, problem_string\n"
   ]
  },
  {
   "cell_type": "code",
   "execution_count": 46,
   "metadata": {},
   "outputs": [
    {
     "data": {
      "text/plain": [
       "([True, True, False, False],\n",
       " ['KATH12M had DBBC problems. The ambiguity resolution was extremely           difficult, almost but not quite impossible.',\n",
       "  'YARRA12M has small clock breaks at ~02:00 and ~11:31 UTC.',\n",
       "  '',\n",
       "  ''])"
      ]
     },
     "execution_count": 46,
     "metadata": {},
     "output_type": "execute_result"
    }
   ],
   "source": [
    "problemFinder(sections[0])"
   ]
  },
  {
   "cell_type": "code",
   "execution_count": 47,
   "metadata": {},
   "outputs": [],
   "source": [
    "def percent2decimal(percent_string):\n",
    "    return float(percent_string.strip('%'))/100\n",
    "\n",
    "\n",
    "def stationPerformance(text_section):\n",
    "    stations = ['KATH12M', 'YARRA12M', 'HOBART12', 'HOBART26']\n",
    "    station_performance = []\n",
    "    for ant in stations:\n",
    "        regex = ant + \".*\"\n",
    "        performance = re.findall(regex,text_section,re.MULTILINE)\n",
    "        if len(performance) > 0:\n",
    "            percentage = [s for s in performance[0].split() if \"%\" in s]\n",
    "            performance = percent2decimal(percentage[0])\n",
    "            station_performance.append(performance)\n",
    "        else:\n",
    "            station_performance.append(None)\n",
    "    \n",
    "    return station_performance"
   ]
  },
  {
   "cell_type": "code",
   "execution_count": 48,
   "metadata": {
    "scrolled": true
   },
   "outputs": [
    {
     "data": {
      "text/plain": [
       "[0.645, 0.809, None, None]"
      ]
     },
     "execution_count": 48,
     "metadata": {},
     "output_type": "execute_result"
    }
   ],
   "source": [
    "stationPerformance(sections[2])"
   ]
  },
  {
   "cell_type": "code",
   "execution_count": 54,
   "metadata": {},
   "outputs": [],
   "source": [
    "def metaData(text_section):\n",
    "    vgosDBtag = re.findall(\"(?<=\\$).{9}\",text_section,re.MULTILINE)\n",
    "    date = re.findall(\"(?<=\\$).{7}\",text_section,re.MULTILINE)\n",
    "    date = datetime.strptime(date[0], '%y%b%d').strftime('%Y-%m-%d')\n",
    "    exp_code = re.findall(\"(?<=Analysis Report for\\s)(.*?(?=\\s))\",text_section,re.MULTILINE)\n",
    "    analyser = re.findall(\"\\S.*(?=\\sAnalysis Report for\\s)\",text_section,re.MULTILINE)\n",
    "    return exp_code[0], analyser[0], date, vgosDBtag[0]\n",
    "    # pretty sure this doesn't work post-2099, but like... you shouldn't be using this trash then... right?"
   ]
  },
  {
   "cell_type": "code",
   "execution_count": 55,
   "metadata": {},
   "outputs": [
    {
     "data": {
      "text/plain": [
       "('R1875', 'IVS', '2019-01-02', '19JAN02XA')"
      ]
     },
     "execution_count": 55,
     "metadata": {},
     "output_type": "execute_result"
    }
   ],
   "source": [
    "metaData(sections[0])"
   ]
  },
  {
   "cell_type": "code",
   "execution_count": 56,
   "metadata": {},
   "outputs": [],
   "source": [
    "with open('r1875-ivs-analysis-report.txt') as file:\n",
    "    contents = file.read()\n",
    "    sections = contents.split('-----------------------------------------')\n",
    "    \n",
    "meta = metaData(sections[0])\n",
    "performance = stationPerformance(sections[2])\n",
    "problems = problemFinder(sections[0])\n",
    "\n"
   ]
  },
  {
   "cell_type": "code",
   "execution_count": 13,
   "metadata": {},
   "outputs": [
    {
     "ename": "OperationalError",
     "evalue": "(2002, \"Can't connect to local MySQL server through socket '/run/mysqld/mysqld.sock' (2)\")",
     "output_type": "error",
     "traceback": [
      "\u001b[0;31m---------------------------------------------------------------------------\u001b[0m",
      "\u001b[0;31mOperationalError\u001b[0m                          Traceback (most recent call last)",
      "\u001b[0;32m<ipython-input-13-380cbf8d54ce>\u001b[0m in \u001b[0;36m<module>\u001b[0;34m\u001b[0m\n\u001b[1;32m      1\u001b[0m \u001b[0;32mimport\u001b[0m \u001b[0mMySQLdb\u001b[0m \u001b[0;32mas\u001b[0m \u001b[0mmariadb\u001b[0m\u001b[0;34m\u001b[0m\u001b[0;34m\u001b[0m\u001b[0m\n\u001b[0;32m----> 2\u001b[0;31m \u001b[0mconn\u001b[0m \u001b[0;34m=\u001b[0m \u001b[0mmariadb\u001b[0m\u001b[0;34m.\u001b[0m\u001b[0mconnect\u001b[0m\u001b[0;34m(\u001b[0m\u001b[0muser\u001b[0m\u001b[0;34m=\u001b[0m\u001b[0;34m'root'\u001b[0m\u001b[0;34m,\u001b[0m \u001b[0mpasswd\u001b[0m\u001b[0;34m=\u001b[0m\u001b[0;34m''\u001b[0m\u001b[0;34m,\u001b[0m \u001b[0mdb\u001b[0m\u001b[0;34m=\u001b[0m\u001b[0;34m'auscope_test'\u001b[0m\u001b[0;34m)\u001b[0m\u001b[0;34m\u001b[0m\u001b[0;34m\u001b[0m\u001b[0m\n\u001b[0m\u001b[1;32m      3\u001b[0m \u001b[0mcursor\u001b[0m \u001b[0;34m=\u001b[0m \u001b[0mconn\u001b[0m\u001b[0;34m.\u001b[0m\u001b[0mcursor\u001b[0m\u001b[0;34m(\u001b[0m\u001b[0;34m)\u001b[0m\u001b[0;34m\u001b[0m\u001b[0;34m\u001b[0m\u001b[0m\n",
      "\u001b[0;32m/usr/lib/python3.7/site-packages/MySQLdb/__init__.py\u001b[0m in \u001b[0;36mConnect\u001b[0;34m(*args, **kwargs)\u001b[0m\n\u001b[1;32m     82\u001b[0m     \u001b[0;34m\"\"\"Factory function for connections.Connection.\"\"\"\u001b[0m\u001b[0;34m\u001b[0m\u001b[0;34m\u001b[0m\u001b[0m\n\u001b[1;32m     83\u001b[0m     \u001b[0;32mfrom\u001b[0m \u001b[0mMySQLdb\u001b[0m\u001b[0;34m.\u001b[0m\u001b[0mconnections\u001b[0m \u001b[0;32mimport\u001b[0m \u001b[0mConnection\u001b[0m\u001b[0;34m\u001b[0m\u001b[0;34m\u001b[0m\u001b[0m\n\u001b[0;32m---> 84\u001b[0;31m     \u001b[0;32mreturn\u001b[0m \u001b[0mConnection\u001b[0m\u001b[0;34m(\u001b[0m\u001b[0;34m*\u001b[0m\u001b[0margs\u001b[0m\u001b[0;34m,\u001b[0m \u001b[0;34m**\u001b[0m\u001b[0mkwargs\u001b[0m\u001b[0;34m)\u001b[0m\u001b[0;34m\u001b[0m\u001b[0;34m\u001b[0m\u001b[0m\n\u001b[0m\u001b[1;32m     85\u001b[0m \u001b[0;34m\u001b[0m\u001b[0m\n\u001b[1;32m     86\u001b[0m \u001b[0mconnect\u001b[0m \u001b[0;34m=\u001b[0m \u001b[0mConnection\u001b[0m \u001b[0;34m=\u001b[0m \u001b[0mConnect\u001b[0m\u001b[0;34m\u001b[0m\u001b[0;34m\u001b[0m\u001b[0m\n",
      "\u001b[0;32m/usr/lib/python3.7/site-packages/MySQLdb/connections.py\u001b[0m in \u001b[0;36m__init__\u001b[0;34m(self, *args, **kwargs)\u001b[0m\n\u001b[1;32m    177\u001b[0m         \u001b[0mautocommit\u001b[0m \u001b[0;34m=\u001b[0m \u001b[0mkwargs2\u001b[0m\u001b[0;34m.\u001b[0m\u001b[0mpop\u001b[0m\u001b[0;34m(\u001b[0m\u001b[0;34m'autocommit'\u001b[0m\u001b[0;34m,\u001b[0m \u001b[0;32mFalse\u001b[0m\u001b[0;34m)\u001b[0m\u001b[0;34m\u001b[0m\u001b[0;34m\u001b[0m\u001b[0m\n\u001b[1;32m    178\u001b[0m \u001b[0;34m\u001b[0m\u001b[0m\n\u001b[0;32m--> 179\u001b[0;31m         \u001b[0msuper\u001b[0m\u001b[0;34m(\u001b[0m\u001b[0mConnection\u001b[0m\u001b[0;34m,\u001b[0m \u001b[0mself\u001b[0m\u001b[0;34m)\u001b[0m\u001b[0;34m.\u001b[0m\u001b[0m__init__\u001b[0m\u001b[0;34m(\u001b[0m\u001b[0;34m*\u001b[0m\u001b[0margs\u001b[0m\u001b[0;34m,\u001b[0m \u001b[0;34m**\u001b[0m\u001b[0mkwargs2\u001b[0m\u001b[0;34m)\u001b[0m\u001b[0;34m\u001b[0m\u001b[0;34m\u001b[0m\u001b[0m\n\u001b[0m\u001b[1;32m    180\u001b[0m         \u001b[0mself\u001b[0m\u001b[0;34m.\u001b[0m\u001b[0mcursorclass\u001b[0m \u001b[0;34m=\u001b[0m \u001b[0mcursorclass\u001b[0m\u001b[0;34m\u001b[0m\u001b[0;34m\u001b[0m\u001b[0m\n\u001b[1;32m    181\u001b[0m         self.encoders = dict([ (k, v) for k, v in conv.items()\n",
      "\u001b[0;31mOperationalError\u001b[0m: (2002, \"Can't connect to local MySQL server through socket '/run/mysqld/mysqld.sock' (2)\")"
     ]
    }
   ],
   "source": [
    "import MySQLdb as mariadb\n",
    "conn = mariadb.connect(user='root', passwd='', db='auscope_test')\n",
    "cursor = conn.cursor()"
   ]
  },
  {
   "cell_type": "code",
   "execution_count": 14,
   "metadata": {},
   "outputs": [],
   "source": [
    "sql_command = []\n",
    "station_id = ['Ke', 'Yg', 'Hb', 'Ho']\n",
    "for i in range(0, len(performance)):\n",
    "    if performance[i] == None:\n",
    "        break\n",
    "    else:\n",
    "        sql_station = \"INSERT IGNORE INTO \" + station_id[i] + \" (ExpID, Performance, Date, Problem, Problem_String, Analyser) VALUES ('{}', {},'{}', {}, '{}' , '{}');\".format(meta[0], performance[i], meta[2], problems[0][i], problems[1][i], meta[1])\n",
    "        sql_command.append(sql_station)\n",
    "\n",
    "# this snippet of code essentially checks if a performance metric exists (and therefore the station participated in the experiment)\n",
    "# If this is true, it generates an SQL command string for that station. "
   ]
  },
  {
   "cell_type": "code",
   "execution_count": 15,
   "metadata": {},
   "outputs": [
    {
     "data": {
      "text/plain": [
       "[\"INSERT IGNORE INTO Ke (ExpID, Performance, Date, Problem, Problem_String, Analyser) VALUES ('R1875', 0.645,'2019-01-02', True, 'KATH12M had DBBC problems. The ambiguity resolution was extremely           difficult, almost but not quite impossible.' , 'IVS');\",\n",
       " \"INSERT IGNORE INTO Yg (ExpID, Performance, Date, Problem, Problem_String, Analyser) VALUES ('R1875', 0.809,'2019-01-02', True, 'YARRA12M has small clock breaks at ~02:00 and ~11:31 UTC.' , 'IVS');\"]"
      ]
     },
     "execution_count": 15,
     "metadata": {},
     "output_type": "execute_result"
    }
   ],
   "source": [
    "sql_command"
   ]
  },
  {
   "cell_type": "code",
   "execution_count": 16,
   "metadata": {
    "scrolled": true
   },
   "outputs": [
    {
     "ename": "NameError",
     "evalue": "name 'cursor' is not defined",
     "output_type": "error",
     "traceback": [
      "\u001b[0;31m---------------------------------------------------------------------------\u001b[0m",
      "\u001b[0;31mNameError\u001b[0m                                 Traceback (most recent call last)",
      "\u001b[0;32m<ipython-input-16-85f3dfe76689>\u001b[0m in \u001b[0;36m<module>\u001b[0;34m\u001b[0m\n\u001b[1;32m      1\u001b[0m \u001b[0;32mfor\u001b[0m \u001b[0mi\u001b[0m \u001b[0;32min\u001b[0m \u001b[0mrange\u001b[0m\u001b[0;34m(\u001b[0m\u001b[0;36m0\u001b[0m\u001b[0;34m,\u001b[0m\u001b[0mlen\u001b[0m\u001b[0;34m(\u001b[0m\u001b[0msql_command\u001b[0m\u001b[0;34m)\u001b[0m\u001b[0;34m)\u001b[0m\u001b[0;34m:\u001b[0m\u001b[0;34m\u001b[0m\u001b[0;34m\u001b[0m\u001b[0m\n\u001b[0;32m----> 2\u001b[0;31m     \u001b[0mcursor\u001b[0m\u001b[0;34m.\u001b[0m\u001b[0mexecute\u001b[0m\u001b[0;34m(\u001b[0m\u001b[0msql_command\u001b[0m\u001b[0;34m[\u001b[0m\u001b[0mi\u001b[0m\u001b[0;34m]\u001b[0m\u001b[0;34m)\u001b[0m\u001b[0;34m\u001b[0m\u001b[0;34m\u001b[0m\u001b[0m\n\u001b[0m\u001b[1;32m      3\u001b[0m \u001b[0;34m\u001b[0m\u001b[0m\n\u001b[1;32m      4\u001b[0m \u001b[0mconn\u001b[0m\u001b[0;34m.\u001b[0m\u001b[0mcommit\u001b[0m\u001b[0;34m(\u001b[0m\u001b[0;34m)\u001b[0m\u001b[0;34m\u001b[0m\u001b[0;34m\u001b[0m\u001b[0m\n\u001b[1;32m      5\u001b[0m \u001b[0mconn\u001b[0m\u001b[0;34m.\u001b[0m\u001b[0mclose\u001b[0m\u001b[0;34m(\u001b[0m\u001b[0;34m)\u001b[0m\u001b[0;34m\u001b[0m\u001b[0;34m\u001b[0m\u001b[0m\n",
      "\u001b[0;31mNameError\u001b[0m: name 'cursor' is not defined"
     ]
    }
   ],
   "source": [
    "for i in range(0,len(sql_command)):\n",
    "    cursor.execute(sql_command[i])\n",
    "\n",
    "conn.commit()\n",
    "conn.close() "
   ]
  },
  {
   "cell_type": "code",
   "execution_count": null,
   "metadata": {},
   "outputs": [],
   "source": []
  },
  {
   "cell_type": "code",
   "execution_count": 17,
   "metadata": {},
   "outputs": [
    {
     "ename": "OperationalError",
     "evalue": "(2002, \"Can't connect to local MySQL server through socket '/run/mysqld/mysqld.sock' (2)\")",
     "output_type": "error",
     "traceback": [
      "\u001b[0;31m---------------------------------------------------------------------------\u001b[0m",
      "\u001b[0;31mOperationalError\u001b[0m                          Traceback (most recent call last)",
      "\u001b[0;32m<ipython-input-17-d8d3f804ec1d>\u001b[0m in \u001b[0;36m<module>\u001b[0;34m\u001b[0m\n\u001b[0;32m----> 1\u001b[0;31m \u001b[0mconn\u001b[0m \u001b[0;34m=\u001b[0m \u001b[0mmariadb\u001b[0m\u001b[0;34m.\u001b[0m\u001b[0mconnect\u001b[0m\u001b[0;34m(\u001b[0m\u001b[0muser\u001b[0m\u001b[0;34m=\u001b[0m\u001b[0;34m'root'\u001b[0m\u001b[0;34m,\u001b[0m \u001b[0mpasswd\u001b[0m\u001b[0;34m=\u001b[0m\u001b[0;34m''\u001b[0m\u001b[0;34m,\u001b[0m \u001b[0mdb\u001b[0m\u001b[0;34m=\u001b[0m\u001b[0;34m'auscope_test'\u001b[0m\u001b[0;34m)\u001b[0m\u001b[0;34m\u001b[0m\u001b[0;34m\u001b[0m\u001b[0m\n\u001b[0m\u001b[1;32m      2\u001b[0m \u001b[0mcursor\u001b[0m \u001b[0;34m=\u001b[0m \u001b[0mconn\u001b[0m\u001b[0;34m.\u001b[0m\u001b[0mcursor\u001b[0m\u001b[0;34m(\u001b[0m\u001b[0;34m)\u001b[0m\u001b[0;34m\u001b[0m\u001b[0;34m\u001b[0m\u001b[0m\n\u001b[1;32m      3\u001b[0m \u001b[0mquery\u001b[0m \u001b[0;34m=\u001b[0m \u001b[0;34m\"SELECT ExpID FROM Ke\"\u001b[0m\u001b[0;34m\u001b[0m\u001b[0;34m\u001b[0m\u001b[0m\n\u001b[1;32m      4\u001b[0m \u001b[0mcursor\u001b[0m\u001b[0;34m.\u001b[0m\u001b[0mexecute\u001b[0m\u001b[0;34m(\u001b[0m\u001b[0mquery\u001b[0m\u001b[0;34m)\u001b[0m\u001b[0;34m\u001b[0m\u001b[0;34m\u001b[0m\u001b[0m\n\u001b[1;32m      5\u001b[0m \u001b[0mresult_list\u001b[0m \u001b[0;34m=\u001b[0m \u001b[0;34m[\u001b[0m\u001b[0mitem\u001b[0m \u001b[0;32mfor\u001b[0m \u001b[0msublist\u001b[0m \u001b[0;32min\u001b[0m \u001b[0mcursor\u001b[0m\u001b[0;34m.\u001b[0m\u001b[0mfetchall\u001b[0m\u001b[0;34m(\u001b[0m\u001b[0;34m)\u001b[0m \u001b[0;32mfor\u001b[0m \u001b[0mitem\u001b[0m \u001b[0;32min\u001b[0m \u001b[0msublist\u001b[0m\u001b[0;34m]\u001b[0m\u001b[0;34m\u001b[0m\u001b[0;34m\u001b[0m\u001b[0m\n",
      "\u001b[0;32m/usr/lib/python3.7/site-packages/MySQLdb/__init__.py\u001b[0m in \u001b[0;36mConnect\u001b[0;34m(*args, **kwargs)\u001b[0m\n\u001b[1;32m     82\u001b[0m     \u001b[0;34m\"\"\"Factory function for connections.Connection.\"\"\"\u001b[0m\u001b[0;34m\u001b[0m\u001b[0;34m\u001b[0m\u001b[0m\n\u001b[1;32m     83\u001b[0m     \u001b[0;32mfrom\u001b[0m \u001b[0mMySQLdb\u001b[0m\u001b[0;34m.\u001b[0m\u001b[0mconnections\u001b[0m \u001b[0;32mimport\u001b[0m \u001b[0mConnection\u001b[0m\u001b[0;34m\u001b[0m\u001b[0;34m\u001b[0m\u001b[0m\n\u001b[0;32m---> 84\u001b[0;31m     \u001b[0;32mreturn\u001b[0m \u001b[0mConnection\u001b[0m\u001b[0;34m(\u001b[0m\u001b[0;34m*\u001b[0m\u001b[0margs\u001b[0m\u001b[0;34m,\u001b[0m \u001b[0;34m**\u001b[0m\u001b[0mkwargs\u001b[0m\u001b[0;34m)\u001b[0m\u001b[0;34m\u001b[0m\u001b[0;34m\u001b[0m\u001b[0m\n\u001b[0m\u001b[1;32m     85\u001b[0m \u001b[0;34m\u001b[0m\u001b[0m\n\u001b[1;32m     86\u001b[0m \u001b[0mconnect\u001b[0m \u001b[0;34m=\u001b[0m \u001b[0mConnection\u001b[0m \u001b[0;34m=\u001b[0m \u001b[0mConnect\u001b[0m\u001b[0;34m\u001b[0m\u001b[0;34m\u001b[0m\u001b[0m\n",
      "\u001b[0;32m/usr/lib/python3.7/site-packages/MySQLdb/connections.py\u001b[0m in \u001b[0;36m__init__\u001b[0;34m(self, *args, **kwargs)\u001b[0m\n\u001b[1;32m    177\u001b[0m         \u001b[0mautocommit\u001b[0m \u001b[0;34m=\u001b[0m \u001b[0mkwargs2\u001b[0m\u001b[0;34m.\u001b[0m\u001b[0mpop\u001b[0m\u001b[0;34m(\u001b[0m\u001b[0;34m'autocommit'\u001b[0m\u001b[0;34m,\u001b[0m \u001b[0;32mFalse\u001b[0m\u001b[0;34m)\u001b[0m\u001b[0;34m\u001b[0m\u001b[0;34m\u001b[0m\u001b[0m\n\u001b[1;32m    178\u001b[0m \u001b[0;34m\u001b[0m\u001b[0m\n\u001b[0;32m--> 179\u001b[0;31m         \u001b[0msuper\u001b[0m\u001b[0;34m(\u001b[0m\u001b[0mConnection\u001b[0m\u001b[0;34m,\u001b[0m \u001b[0mself\u001b[0m\u001b[0;34m)\u001b[0m\u001b[0;34m.\u001b[0m\u001b[0m__init__\u001b[0m\u001b[0;34m(\u001b[0m\u001b[0;34m*\u001b[0m\u001b[0margs\u001b[0m\u001b[0;34m,\u001b[0m \u001b[0;34m**\u001b[0m\u001b[0mkwargs2\u001b[0m\u001b[0;34m)\u001b[0m\u001b[0;34m\u001b[0m\u001b[0;34m\u001b[0m\u001b[0m\n\u001b[0m\u001b[1;32m    180\u001b[0m         \u001b[0mself\u001b[0m\u001b[0;34m.\u001b[0m\u001b[0mcursorclass\u001b[0m \u001b[0;34m=\u001b[0m \u001b[0mcursorclass\u001b[0m\u001b[0;34m\u001b[0m\u001b[0;34m\u001b[0m\u001b[0m\n\u001b[1;32m    181\u001b[0m         self.encoders = dict([ (k, v) for k, v in conv.items()\n",
      "\u001b[0;31mOperationalError\u001b[0m: (2002, \"Can't connect to local MySQL server through socket '/run/mysqld/mysqld.sock' (2)\")"
     ]
    }
   ],
   "source": [
    "conn = mariadb.connect(user='root', passwd='', db='auscope_test')\n",
    "cursor = conn.cursor()\n",
    "query = \"SELECT ExpID FROM Ke\"\n",
    "cursor.execute(query)\n",
    "result_list = [item for sublist in cursor.fetchall() for item in sublist]\n",
    "print(result_list)"
   ]
  },
  {
   "cell_type": "code",
   "execution_count": 18,
   "metadata": {},
   "outputs": [
    {
     "ename": "OperationalError",
     "evalue": "(2002, \"Can't connect to local MySQL server through socket '/run/mysqld/mysqld.sock' (2)\")",
     "output_type": "error",
     "traceback": [
      "\u001b[0;31m---------------------------------------------------------------------------\u001b[0m",
      "\u001b[0;31mOperationalError\u001b[0m                          Traceback (most recent call last)",
      "\u001b[0;32m<ipython-input-18-f66d741021b7>\u001b[0m in \u001b[0;36m<module>\u001b[0;34m\u001b[0m\n\u001b[1;32m      1\u001b[0m \u001b[0mstation_id\u001b[0m \u001b[0;34m=\u001b[0m \u001b[0;34m[\u001b[0m\u001b[0;34m'Ke'\u001b[0m\u001b[0;34m,\u001b[0m \u001b[0;34m'Yg'\u001b[0m\u001b[0;34m,\u001b[0m \u001b[0;34m'Hb'\u001b[0m\u001b[0;34m,\u001b[0m \u001b[0;34m'Ho'\u001b[0m\u001b[0;34m]\u001b[0m\u001b[0;34m\u001b[0m\u001b[0;34m\u001b[0m\u001b[0m\n\u001b[0;32m----> 2\u001b[0;31m \u001b[0mconn\u001b[0m \u001b[0;34m=\u001b[0m \u001b[0mmariadb\u001b[0m\u001b[0;34m.\u001b[0m\u001b[0mconnect\u001b[0m\u001b[0;34m(\u001b[0m\u001b[0muser\u001b[0m\u001b[0;34m=\u001b[0m\u001b[0;34m'root'\u001b[0m\u001b[0;34m,\u001b[0m \u001b[0mpasswd\u001b[0m\u001b[0;34m=\u001b[0m\u001b[0;34m''\u001b[0m\u001b[0;34m)\u001b[0m\u001b[0;34m\u001b[0m\u001b[0;34m\u001b[0m\u001b[0m\n\u001b[0m\u001b[1;32m      3\u001b[0m \u001b[0mcursor\u001b[0m \u001b[0;34m=\u001b[0m \u001b[0mconn\u001b[0m\u001b[0;34m.\u001b[0m\u001b[0mcursor\u001b[0m\u001b[0;34m(\u001b[0m\u001b[0;34m)\u001b[0m\u001b[0;34m\u001b[0m\u001b[0;34m\u001b[0m\u001b[0m\n\u001b[1;32m      4\u001b[0m \u001b[0mquery\u001b[0m \u001b[0;34m=\u001b[0m \u001b[0;34m\"CREATE OR REPLACE DATABASE auscope_test;\"\u001b[0m\u001b[0;34m\u001b[0m\u001b[0;34m\u001b[0m\u001b[0m\n\u001b[1;32m      5\u001b[0m \u001b[0mcursor\u001b[0m\u001b[0;34m.\u001b[0m\u001b[0mexecute\u001b[0m\u001b[0;34m(\u001b[0m\u001b[0mquery\u001b[0m\u001b[0;34m)\u001b[0m\u001b[0;34m\u001b[0m\u001b[0;34m\u001b[0m\u001b[0m\n",
      "\u001b[0;32m/usr/lib/python3.7/site-packages/MySQLdb/__init__.py\u001b[0m in \u001b[0;36mConnect\u001b[0;34m(*args, **kwargs)\u001b[0m\n\u001b[1;32m     82\u001b[0m     \u001b[0;34m\"\"\"Factory function for connections.Connection.\"\"\"\u001b[0m\u001b[0;34m\u001b[0m\u001b[0;34m\u001b[0m\u001b[0m\n\u001b[1;32m     83\u001b[0m     \u001b[0;32mfrom\u001b[0m \u001b[0mMySQLdb\u001b[0m\u001b[0;34m.\u001b[0m\u001b[0mconnections\u001b[0m \u001b[0;32mimport\u001b[0m \u001b[0mConnection\u001b[0m\u001b[0;34m\u001b[0m\u001b[0;34m\u001b[0m\u001b[0m\n\u001b[0;32m---> 84\u001b[0;31m     \u001b[0;32mreturn\u001b[0m \u001b[0mConnection\u001b[0m\u001b[0;34m(\u001b[0m\u001b[0;34m*\u001b[0m\u001b[0margs\u001b[0m\u001b[0;34m,\u001b[0m \u001b[0;34m**\u001b[0m\u001b[0mkwargs\u001b[0m\u001b[0;34m)\u001b[0m\u001b[0;34m\u001b[0m\u001b[0;34m\u001b[0m\u001b[0m\n\u001b[0m\u001b[1;32m     85\u001b[0m \u001b[0;34m\u001b[0m\u001b[0m\n\u001b[1;32m     86\u001b[0m \u001b[0mconnect\u001b[0m \u001b[0;34m=\u001b[0m \u001b[0mConnection\u001b[0m \u001b[0;34m=\u001b[0m \u001b[0mConnect\u001b[0m\u001b[0;34m\u001b[0m\u001b[0;34m\u001b[0m\u001b[0m\n",
      "\u001b[0;32m/usr/lib/python3.7/site-packages/MySQLdb/connections.py\u001b[0m in \u001b[0;36m__init__\u001b[0;34m(self, *args, **kwargs)\u001b[0m\n\u001b[1;32m    177\u001b[0m         \u001b[0mautocommit\u001b[0m \u001b[0;34m=\u001b[0m \u001b[0mkwargs2\u001b[0m\u001b[0;34m.\u001b[0m\u001b[0mpop\u001b[0m\u001b[0;34m(\u001b[0m\u001b[0;34m'autocommit'\u001b[0m\u001b[0;34m,\u001b[0m \u001b[0;32mFalse\u001b[0m\u001b[0;34m)\u001b[0m\u001b[0;34m\u001b[0m\u001b[0;34m\u001b[0m\u001b[0m\n\u001b[1;32m    178\u001b[0m \u001b[0;34m\u001b[0m\u001b[0m\n\u001b[0;32m--> 179\u001b[0;31m         \u001b[0msuper\u001b[0m\u001b[0;34m(\u001b[0m\u001b[0mConnection\u001b[0m\u001b[0;34m,\u001b[0m \u001b[0mself\u001b[0m\u001b[0;34m)\u001b[0m\u001b[0;34m.\u001b[0m\u001b[0m__init__\u001b[0m\u001b[0;34m(\u001b[0m\u001b[0;34m*\u001b[0m\u001b[0margs\u001b[0m\u001b[0;34m,\u001b[0m \u001b[0;34m**\u001b[0m\u001b[0mkwargs2\u001b[0m\u001b[0;34m)\u001b[0m\u001b[0;34m\u001b[0m\u001b[0;34m\u001b[0m\u001b[0m\n\u001b[0m\u001b[1;32m    180\u001b[0m         \u001b[0mself\u001b[0m\u001b[0;34m.\u001b[0m\u001b[0mcursorclass\u001b[0m \u001b[0;34m=\u001b[0m \u001b[0mcursorclass\u001b[0m\u001b[0;34m\u001b[0m\u001b[0;34m\u001b[0m\u001b[0m\n\u001b[1;32m    181\u001b[0m         self.encoders = dict([ (k, v) for k, v in conv.items()\n",
      "\u001b[0;31mOperationalError\u001b[0m: (2002, \"Can't connect to local MySQL server through socket '/run/mysqld/mysqld.sock' (2)\")"
     ]
    }
   ],
   "source": [
    "station_id = ['Ke', 'Yg', 'Hb', 'Ho']\n",
    "conn = mariadb.connect(user='root', passwd='')\n",
    "cursor = conn.cursor()\n",
    "query = \"CREATE OR REPLACE DATABASE auscope_test;\"\n",
    "cursor.execute(query)\n",
    "conn.commit()\n",
    "query = \"USE auscope_test\"\n",
    "cursor.execute(query)\n",
    "conn.commit()\n",
    "\n",
    "for ant in station_id:\n",
    "    query = \"CREATE TABLE IF NOT EXISTS \"+ ant + \" (ExpID VARCHAR(10) NOT NULL PRIMARY KEY, Performance decimal(4,3) NOT NULL, Date DATETIME, Pos_X decimal(14,2), Pos_Y decimal(14,2), Pos_Z decimal(14,2), Problem BIT(1), Problem_String VARCHAR(100), Analyser VARCHAR(10) NOT NULL);\" \n",
    "    cursor.execute(query)\n",
    "    conn.commit()\n",
    "    \n",
    "conn.close()\n",
    "    "
   ]
  },
  {
   "cell_type": "code",
   "execution_count": 19,
   "metadata": {},
   "outputs": [
    {
     "ename": "OperationalError",
     "evalue": "(2002, \"Can't connect to local MySQL server through socket '/run/mysqld/mysqld.sock' (2)\")",
     "output_type": "error",
     "traceback": [
      "\u001b[0;31m---------------------------------------------------------------------------\u001b[0m",
      "\u001b[0;31mOperationalError\u001b[0m                          Traceback (most recent call last)",
      "\u001b[0;32m<ipython-input-19-37956a6ba1aa>\u001b[0m in \u001b[0;36m<module>\u001b[0;34m\u001b[0m\n\u001b[1;32m      1\u001b[0m \u001b[0mstation_id\u001b[0m \u001b[0;34m=\u001b[0m \u001b[0;34m[\u001b[0m\u001b[0;34m'Ke'\u001b[0m\u001b[0;34m,\u001b[0m \u001b[0;34m'Yg'\u001b[0m\u001b[0;34m,\u001b[0m \u001b[0;34m'Hb'\u001b[0m\u001b[0;34m,\u001b[0m \u001b[0;34m'Ho'\u001b[0m\u001b[0;34m]\u001b[0m\u001b[0;34m\u001b[0m\u001b[0;34m\u001b[0m\u001b[0m\n\u001b[0;32m----> 2\u001b[0;31m \u001b[0mconn\u001b[0m \u001b[0;34m=\u001b[0m \u001b[0mmariadb\u001b[0m\u001b[0;34m.\u001b[0m\u001b[0mconnect\u001b[0m\u001b[0;34m(\u001b[0m\u001b[0muser\u001b[0m\u001b[0;34m=\u001b[0m\u001b[0;34m'root'\u001b[0m\u001b[0;34m,\u001b[0m \u001b[0mpasswd\u001b[0m\u001b[0;34m=\u001b[0m\u001b[0;34m''\u001b[0m\u001b[0;34m)\u001b[0m\u001b[0;34m\u001b[0m\u001b[0;34m\u001b[0m\u001b[0m\n\u001b[0m\u001b[1;32m      3\u001b[0m \u001b[0mcursor\u001b[0m \u001b[0;34m=\u001b[0m \u001b[0mconn\u001b[0m\u001b[0;34m.\u001b[0m\u001b[0mcursor\u001b[0m\u001b[0;34m(\u001b[0m\u001b[0;34m)\u001b[0m\u001b[0;34m\u001b[0m\u001b[0;34m\u001b[0m\u001b[0m\n\u001b[1;32m      4\u001b[0m \u001b[0mquery\u001b[0m \u001b[0;34m=\u001b[0m \u001b[0;34m\"CREATE DATABASE IF NOT EXISTS auscope_test;\"\u001b[0m\u001b[0;34m\u001b[0m\u001b[0;34m\u001b[0m\u001b[0m\n\u001b[1;32m      5\u001b[0m \u001b[0mcursor\u001b[0m\u001b[0;34m.\u001b[0m\u001b[0mexecute\u001b[0m\u001b[0;34m(\u001b[0m\u001b[0mquery\u001b[0m\u001b[0;34m)\u001b[0m\u001b[0;34m\u001b[0m\u001b[0;34m\u001b[0m\u001b[0m\n",
      "\u001b[0;32m/usr/lib/python3.7/site-packages/MySQLdb/__init__.py\u001b[0m in \u001b[0;36mConnect\u001b[0;34m(*args, **kwargs)\u001b[0m\n\u001b[1;32m     82\u001b[0m     \u001b[0;34m\"\"\"Factory function for connections.Connection.\"\"\"\u001b[0m\u001b[0;34m\u001b[0m\u001b[0;34m\u001b[0m\u001b[0m\n\u001b[1;32m     83\u001b[0m     \u001b[0;32mfrom\u001b[0m \u001b[0mMySQLdb\u001b[0m\u001b[0;34m.\u001b[0m\u001b[0mconnections\u001b[0m \u001b[0;32mimport\u001b[0m \u001b[0mConnection\u001b[0m\u001b[0;34m\u001b[0m\u001b[0;34m\u001b[0m\u001b[0m\n\u001b[0;32m---> 84\u001b[0;31m     \u001b[0;32mreturn\u001b[0m \u001b[0mConnection\u001b[0m\u001b[0;34m(\u001b[0m\u001b[0;34m*\u001b[0m\u001b[0margs\u001b[0m\u001b[0;34m,\u001b[0m \u001b[0;34m**\u001b[0m\u001b[0mkwargs\u001b[0m\u001b[0;34m)\u001b[0m\u001b[0;34m\u001b[0m\u001b[0;34m\u001b[0m\u001b[0m\n\u001b[0m\u001b[1;32m     85\u001b[0m \u001b[0;34m\u001b[0m\u001b[0m\n\u001b[1;32m     86\u001b[0m \u001b[0mconnect\u001b[0m \u001b[0;34m=\u001b[0m \u001b[0mConnection\u001b[0m \u001b[0;34m=\u001b[0m \u001b[0mConnect\u001b[0m\u001b[0;34m\u001b[0m\u001b[0;34m\u001b[0m\u001b[0m\n",
      "\u001b[0;32m/usr/lib/python3.7/site-packages/MySQLdb/connections.py\u001b[0m in \u001b[0;36m__init__\u001b[0;34m(self, *args, **kwargs)\u001b[0m\n\u001b[1;32m    177\u001b[0m         \u001b[0mautocommit\u001b[0m \u001b[0;34m=\u001b[0m \u001b[0mkwargs2\u001b[0m\u001b[0;34m.\u001b[0m\u001b[0mpop\u001b[0m\u001b[0;34m(\u001b[0m\u001b[0;34m'autocommit'\u001b[0m\u001b[0;34m,\u001b[0m \u001b[0;32mFalse\u001b[0m\u001b[0;34m)\u001b[0m\u001b[0;34m\u001b[0m\u001b[0;34m\u001b[0m\u001b[0m\n\u001b[1;32m    178\u001b[0m \u001b[0;34m\u001b[0m\u001b[0m\n\u001b[0;32m--> 179\u001b[0;31m         \u001b[0msuper\u001b[0m\u001b[0;34m(\u001b[0m\u001b[0mConnection\u001b[0m\u001b[0;34m,\u001b[0m \u001b[0mself\u001b[0m\u001b[0;34m)\u001b[0m\u001b[0;34m.\u001b[0m\u001b[0m__init__\u001b[0m\u001b[0;34m(\u001b[0m\u001b[0;34m*\u001b[0m\u001b[0margs\u001b[0m\u001b[0;34m,\u001b[0m \u001b[0;34m**\u001b[0m\u001b[0mkwargs2\u001b[0m\u001b[0;34m)\u001b[0m\u001b[0;34m\u001b[0m\u001b[0;34m\u001b[0m\u001b[0m\n\u001b[0m\u001b[1;32m    180\u001b[0m         \u001b[0mself\u001b[0m\u001b[0;34m.\u001b[0m\u001b[0mcursorclass\u001b[0m \u001b[0;34m=\u001b[0m \u001b[0mcursorclass\u001b[0m\u001b[0;34m\u001b[0m\u001b[0;34m\u001b[0m\u001b[0m\n\u001b[1;32m    181\u001b[0m         self.encoders = dict([ (k, v) for k, v in conv.items()\n",
      "\u001b[0;31mOperationalError\u001b[0m: (2002, \"Can't connect to local MySQL server through socket '/run/mysqld/mysqld.sock' (2)\")"
     ]
    }
   ],
   "source": [
    "station_id = ['Ke', 'Yg', 'Hb', 'Ho']\n",
    "conn = mariadb.connect(user='root', passwd='')\n",
    "cursor = conn.cursor()\n",
    "query = \"CREATE DATABASE IF NOT EXISTS auscope_test;\"\n",
    "cursor.execute(query)\n",
    "conn.commit()\n",
    "query = \"USE auscope_test\"\n",
    "cursor.execute(query)\n",
    "conn.commit()\n",
    "for ant in station_id:\n",
    "    query = \"CREATE TABLE IF NOT EXISTS \"+ ant + \" (ExpID VARCHAR(10) NOT NULL PRIMARY KEY, Performance decimal(4,3) NOT NULL, Date DATETIME, Pos_X decimal(14,2), Pos_Y decimal(14,2), Pos_Z decimal(14,2), Problem BIT(1), Problem_String VARCHAR(100), Analyser VARCHAR(10) NOT NULL);\" \n",
    "    cursor.execute(query)\n",
    "    conn.commit()\n",
    "    \n",
    "conn.close()"
   ]
  },
  {
   "cell_type": "code",
   "execution_count": null,
   "metadata": {},
   "outputs": [],
   "source": []
  },
  {
   "cell_type": "code",
   "execution_count": null,
   "metadata": {},
   "outputs": [],
   "source": []
  }
 ],
 "metadata": {
  "kernelspec": {
   "display_name": "Python 3",
   "language": "python",
   "name": "python3"
  },
  "language_info": {
   "codemirror_mode": {
    "name": "ipython",
    "version": 3
   },
   "file_extension": ".py",
   "mimetype": "text/x-python",
   "name": "python",
   "nbconvert_exporter": "python",
   "pygments_lexer": "ipython3",
   "version": "3.7.3"
  }
 },
 "nbformat": 4,
 "nbformat_minor": 2
}
