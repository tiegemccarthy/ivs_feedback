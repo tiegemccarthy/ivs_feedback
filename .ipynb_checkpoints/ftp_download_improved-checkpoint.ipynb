{
 "cells": [
  {
   "cell_type": "code",
   "execution_count": 1,
   "metadata": {},
   "outputs": [],
   "source": [
    "from ftplib import FTP\n",
    "import re\n",
    "import os\n",
    "import MySQLdb as mariadb\n"
   ]
  },
  {
   "cell_type": "code",
   "execution_count": 2,
   "metadata": {},
   "outputs": [],
   "source": [
    "def checkExistingData(db_name):\n",
    "    # db_name should be the name of the auscope database (as a string) we want to query for \n",
    "    #  unique existing experiment IDs\n",
    "    conn = mariadb.connect(user='root', passwd='', db=db_name)\n",
    "    cursor = conn.cursor()\n",
    "    station_key = ['Ke', 'Yg', 'Hb', 'Ho']\n",
    "    existing_experiments = []\n",
    "\n",
    "    for ant in station_key:\n",
    "        query = \"SELECT ExpID FROM \" + ant\n",
    "        cursor.execute(query)\n",
    "        result_list = [item for sublist in cursor.fetchall() for item in sublist]\n",
    "        existing_experiments.append(result_list)\n",
    "    \n",
    "    existing_experiments = [item for sublist in existing_experiments for item in sublist]\n",
    "    unique_existing_experiments = set(existing_experiments)\n",
    "    return unique_existing_experiments"
   ]
  },
  {
   "cell_type": "code",
   "execution_count": 3,
   "metadata": {},
   "outputs": [
    {
     "name": "stdout",
     "output_type": "stream",
     "text": [
      "{'R1892', 'R4876', 'R1876'}\n"
     ]
    }
   ],
   "source": [
    "print(checkExistingData('auscope_test'))"
   ]
  },
  {
   "cell_type": "code",
   "execution_count": 4,
   "metadata": {},
   "outputs": [],
   "source": [
    "with open('master16.txt') as file:\n",
    "    contents = file.readlines()\n",
    "\n",
    "valid_experiment = []\n",
    "for line in contents:\n",
    "    line = line.split('|')\n",
    "    if len(line) > 13:\n",
    "        regex = '(?<!-)Ke|(?<!-)Yg|(?<!-)Hb|(?<!-)Ho'\n",
    "        participated = re.findall(regex,line[7],re.MULTILINE)\n",
    "        if len(participated) > 0:\n",
    "            valid_experiment.append(line[2].strip())\n",
    "            \n",
    "existing_experiments = checkExistingData('auscope_test')\n",
    "experiments_to_download = [x for x in valid_experiment if x not in existing_experiments]\n",
    "\n",
    "# This ultimately produces a list of experiments from the given years master schedule that \n",
    "#  do not exist yet in the database.\n"
   ]
  },
  {
   "cell_type": "code",
   "execution_count": 5,
   "metadata": {},
   "outputs": [
    {
     "data": {
      "text/plain": [
       "['AUG020',\n",
       " 'R1722',\n",
       " 'CRF92',\n",
       " 'R4722',\n",
       " 'R1723',\n",
       " 'RD1601',\n",
       " 'R4723',\n",
       " 'R1724',\n",
       " 'CRDS81',\n",
       " 'R4724',\n",
       " 'R1725',\n",
       " 'AOV007',\n",
       " 'R4725',\n",
       " 'R1726',\n",
       " 'OHG100',\n",
       " 'OHG101',\n",
       " 'R4726',\n",
       " 'R1727',\n",
       " 'T2109',\n",
       " 'OHG102',\n",
       " 'R4727',\n",
       " 'R1728',\n",
       " 'AUA009',\n",
       " 'CRF93',\n",
       " 'R4728',\n",
       " 'R1729',\n",
       " 'R4729',\n",
       " 'R1730',\n",
       " 'R4730',\n",
       " 'R1731',\n",
       " 'AUG021',\n",
       " 'AOV008',\n",
       " 'R4731',\n",
       " 'R1732',\n",
       " 'R1733',\n",
       " 'RD1602',\n",
       " 'R4733',\n",
       " 'AUG022',\n",
       " 'AUG023',\n",
       " 'T2110',\n",
       " 'CRDS82',\n",
       " 'R4734',\n",
       " 'R1735',\n",
       " 'AUA010',\n",
       " 'R4735',\n",
       " 'R1736',\n",
       " 'R4736',\n",
       " 'R1737',\n",
       " 'R4737',\n",
       " 'R1738',\n",
       " 'R4738',\n",
       " 'R1739',\n",
       " 'AOV009',\n",
       " 'R4739',\n",
       " 'CRDS83',\n",
       " 'R1740',\n",
       " 'RD1604',\n",
       " 'R4740',\n",
       " 'R1741',\n",
       " 'R4741',\n",
       " 'R1742',\n",
       " 'R4742',\n",
       " 'R1743',\n",
       " 'AUG024',\n",
       " 'R4743',\n",
       " 'R1744',\n",
       " 'AUG025',\n",
       " 'R4744',\n",
       " 'R1745',\n",
       " 'T2111',\n",
       " 'R4745',\n",
       " 'R1746',\n",
       " 'RD1605',\n",
       " 'CRF95',\n",
       " 'R4746',\n",
       " 'R1747',\n",
       " 'R4747',\n",
       " 'R1748',\n",
       " 'AUA011',\n",
       " 'AUG026',\n",
       " 'R4748',\n",
       " 'R1749',\n",
       " 'RD1606',\n",
       " 'CRDS84',\n",
       " 'R4749',\n",
       " 'R1750',\n",
       " 'APSG38',\n",
       " 'AOV010',\n",
       " 'R4750',\n",
       " 'R1751',\n",
       " 'R4751',\n",
       " 'R1752',\n",
       " 'AUA012',\n",
       " 'R4752',\n",
       " 'R1753',\n",
       " 'R4753',\n",
       " 'R1754',\n",
       " 'T2112',\n",
       " 'RD1607',\n",
       " 'R4754',\n",
       " 'R1755',\n",
       " 'HOB003',\n",
       " 'R4755',\n",
       " 'AUG027',\n",
       " 'R1756',\n",
       " 'R4756',\n",
       " 'R1757',\n",
       " 'RD1609',\n",
       " 'R4757',\n",
       " 'HOB004',\n",
       " 'R1758',\n",
       " 'AOV011',\n",
       " 'AUG029',\n",
       " 'R4758',\n",
       " 'HOB005',\n",
       " 'R1759',\n",
       " 'CRDS85',\n",
       " 'APSG39',\n",
       " 'R4759',\n",
       " 'R1760',\n",
       " 'RD1610',\n",
       " 'R4760',\n",
       " 'AUG030',\n",
       " 'AUA013',\n",
       " 'R1761',\n",
       " 'AOV012',\n",
       " 'R4761',\n",
       " 'R1762',\n",
       " 'T2113',\n",
       " 'R4762',\n",
       " 'HOB006',\n",
       " 'AUG031',\n",
       " 'R1763',\n",
       " 'R4763',\n",
       " 'R1764',\n",
       " 'AUA014',\n",
       " 'HOB007',\n",
       " 'R4764',\n",
       " 'AUG032',\n",
       " 'R1765',\n",
       " 'OHG103',\n",
       " 'OHG104',\n",
       " 'R4765',\n",
       " 'R1766',\n",
       " 'T2114',\n",
       " 'OHG105',\n",
       " 'R4766',\n",
       " 'HOB008',\n",
       " 'R1767',\n",
       " 'R4767',\n",
       " 'CRDS86',\n",
       " 'AUG033',\n",
       " 'R1768',\n",
       " 'RD1611',\n",
       " 'HOB009',\n",
       " 'R1769',\n",
       " 'T2115',\n",
       " 'AUA015',\n",
       " 'R4769',\n",
       " 'AUG034',\n",
       " 'R1770',\n",
       " 'RD1612',\n",
       " 'R4770',\n",
       " 'RD1613',\n",
       " 'R1771']"
      ]
     },
     "execution_count": 5,
     "metadata": {},
     "output_type": "execute_result"
    }
   ],
   "source": [
    "experiments_to_download"
   ]
  },
  {
   "cell_type": "code",
   "execution_count": 7,
   "metadata": {},
   "outputs": [
    {
     "ename": "KeyboardInterrupt",
     "evalue": "",
     "output_type": "error",
     "traceback": [
      "\u001b[0;31m---------------------------------------------------------------------------\u001b[0m",
      "\u001b[0;31mKeyboardInterrupt\u001b[0m                         Traceback (most recent call last)",
      "\u001b[0;32m<ipython-input-7-d4a9ab5bbc29>\u001b[0m in \u001b[0;36m<module>\u001b[0;34m\u001b[0m\n\u001b[1;32m     19\u001b[0m             \u001b[0mfilename_spool\u001b[0m \u001b[0;34m=\u001b[0m \u001b[0;34m[\u001b[0m\u001b[0;34m]\u001b[0m\u001b[0;34m\u001b[0m\u001b[0;34m\u001b[0m\u001b[0m\n\u001b[1;32m     20\u001b[0m             \u001b[0mftp\u001b[0m\u001b[0;34m.\u001b[0m\u001b[0mretrlines\u001b[0m\u001b[0;34m(\u001b[0m\u001b[0;34m'LIST '\u001b[0m\u001b[0;34m+\u001b[0m\u001b[0mexp\u001b[0m\u001b[0;34m+\u001b[0m\u001b[0;34m'-'\u001b[0m\u001b[0;34m+\u001b[0m\u001b[0mspelling\u001b[0m\u001b[0;34m+\u001b[0m\u001b[0;34m'-analysis-report*'\u001b[0m\u001b[0;34m,\u001b[0m \u001b[0mfilename_report\u001b[0m\u001b[0;34m.\u001b[0m\u001b[0mappend\u001b[0m\u001b[0;34m)\u001b[0m\u001b[0;34m\u001b[0m\u001b[0;34m\u001b[0m\u001b[0m\n\u001b[0;32m---> 21\u001b[0;31m             \u001b[0mftp\u001b[0m\u001b[0;34m.\u001b[0m\u001b[0mretrlines\u001b[0m\u001b[0;34m(\u001b[0m\u001b[0;34m'LIST '\u001b[0m\u001b[0;34m+\u001b[0m\u001b[0mexp\u001b[0m\u001b[0;34m+\u001b[0m\u001b[0;34m'-'\u001b[0m\u001b[0;34m+\u001b[0m\u001b[0mspelling\u001b[0m\u001b[0;34m+\u001b[0m\u001b[0;34m'-analysis-spoolfile*'\u001b[0m\u001b[0;34m,\u001b[0m \u001b[0mfilename_spool\u001b[0m\u001b[0;34m.\u001b[0m\u001b[0mappend\u001b[0m\u001b[0;34m)\u001b[0m\u001b[0;34m\u001b[0m\u001b[0;34m\u001b[0m\u001b[0m\n\u001b[0m\u001b[1;32m     22\u001b[0m             \u001b[0;32mif\u001b[0m \u001b[0mlen\u001b[0m\u001b[0;34m(\u001b[0m\u001b[0mfilename_report\u001b[0m\u001b[0;34m)\u001b[0m \u001b[0;34m>\u001b[0m \u001b[0;36m0\u001b[0m\u001b[0;34m:\u001b[0m\u001b[0;34m\u001b[0m\u001b[0;34m\u001b[0m\u001b[0m\n\u001b[1;32m     23\u001b[0m                 \u001b[0mlocal_filename_report\u001b[0m \u001b[0;34m=\u001b[0m \u001b[0mos\u001b[0m\u001b[0;34m.\u001b[0m\u001b[0mpath\u001b[0m\u001b[0;34m.\u001b[0m\u001b[0mjoin\u001b[0m\u001b[0;34m(\u001b[0m\u001b[0mos\u001b[0m\u001b[0;34m.\u001b[0m\u001b[0mgetcwd\u001b[0m\u001b[0;34m(\u001b[0m\u001b[0;34m)\u001b[0m\u001b[0;34m,\u001b[0m \u001b[0;34m'analysis_reports/'\u001b[0m \u001b[0;34m+\u001b[0m \u001b[0mexp\u001b[0m \u001b[0;34m+\u001b[0m \u001b[0;34m'_report.txt'\u001b[0m\u001b[0;34m)\u001b[0m\u001b[0;34m\u001b[0m\u001b[0;34m\u001b[0m\u001b[0m\n",
      "\u001b[0;32m/usr/lib/python3.7/ftplib.py\u001b[0m in \u001b[0;36mretrlines\u001b[0;34m(self, cmd, callback)\u001b[0m\n\u001b[1;32m    465\u001b[0m         \u001b[0;32mif\u001b[0m \u001b[0mcallback\u001b[0m \u001b[0;32mis\u001b[0m \u001b[0;32mNone\u001b[0m\u001b[0;34m:\u001b[0m\u001b[0;34m\u001b[0m\u001b[0;34m\u001b[0m\u001b[0m\n\u001b[1;32m    466\u001b[0m             \u001b[0mcallback\u001b[0m \u001b[0;34m=\u001b[0m \u001b[0mprint_line\u001b[0m\u001b[0;34m\u001b[0m\u001b[0;34m\u001b[0m\u001b[0m\n\u001b[0;32m--> 467\u001b[0;31m         \u001b[0mresp\u001b[0m \u001b[0;34m=\u001b[0m \u001b[0mself\u001b[0m\u001b[0;34m.\u001b[0m\u001b[0msendcmd\u001b[0m\u001b[0;34m(\u001b[0m\u001b[0;34m'TYPE A'\u001b[0m\u001b[0;34m)\u001b[0m\u001b[0;34m\u001b[0m\u001b[0;34m\u001b[0m\u001b[0m\n\u001b[0m\u001b[1;32m    468\u001b[0m         \u001b[0;32mwith\u001b[0m \u001b[0mself\u001b[0m\u001b[0;34m.\u001b[0m\u001b[0mtransfercmd\u001b[0m\u001b[0;34m(\u001b[0m\u001b[0mcmd\u001b[0m\u001b[0;34m)\u001b[0m \u001b[0;32mas\u001b[0m \u001b[0mconn\u001b[0m\u001b[0;34m,\u001b[0m\u001b[0;31m \u001b[0m\u001b[0;31m\\\u001b[0m\u001b[0;34m\u001b[0m\u001b[0;34m\u001b[0m\u001b[0m\n\u001b[1;32m    469\u001b[0m                  \u001b[0mconn\u001b[0m\u001b[0;34m.\u001b[0m\u001b[0mmakefile\u001b[0m\u001b[0;34m(\u001b[0m\u001b[0;34m'r'\u001b[0m\u001b[0;34m,\u001b[0m \u001b[0mencoding\u001b[0m\u001b[0;34m=\u001b[0m\u001b[0mself\u001b[0m\u001b[0;34m.\u001b[0m\u001b[0mencoding\u001b[0m\u001b[0;34m)\u001b[0m \u001b[0;32mas\u001b[0m \u001b[0mfp\u001b[0m\u001b[0;34m:\u001b[0m\u001b[0;34m\u001b[0m\u001b[0;34m\u001b[0m\u001b[0m\n",
      "\u001b[0;32m/usr/lib/python3.7/ftplib.py\u001b[0m in \u001b[0;36msendcmd\u001b[0;34m(self, cmd)\u001b[0m\n\u001b[1;32m    271\u001b[0m         \u001b[0;34m'''Send a command and return the response.'''\u001b[0m\u001b[0;34m\u001b[0m\u001b[0;34m\u001b[0m\u001b[0m\n\u001b[1;32m    272\u001b[0m         \u001b[0mself\u001b[0m\u001b[0;34m.\u001b[0m\u001b[0mputcmd\u001b[0m\u001b[0;34m(\u001b[0m\u001b[0mcmd\u001b[0m\u001b[0;34m)\u001b[0m\u001b[0;34m\u001b[0m\u001b[0;34m\u001b[0m\u001b[0m\n\u001b[0;32m--> 273\u001b[0;31m         \u001b[0;32mreturn\u001b[0m \u001b[0mself\u001b[0m\u001b[0;34m.\u001b[0m\u001b[0mgetresp\u001b[0m\u001b[0;34m(\u001b[0m\u001b[0;34m)\u001b[0m\u001b[0;34m\u001b[0m\u001b[0;34m\u001b[0m\u001b[0m\n\u001b[0m\u001b[1;32m    274\u001b[0m \u001b[0;34m\u001b[0m\u001b[0m\n\u001b[1;32m    275\u001b[0m     \u001b[0;32mdef\u001b[0m \u001b[0mvoidcmd\u001b[0m\u001b[0;34m(\u001b[0m\u001b[0mself\u001b[0m\u001b[0;34m,\u001b[0m \u001b[0mcmd\u001b[0m\u001b[0;34m)\u001b[0m\u001b[0;34m:\u001b[0m\u001b[0;34m\u001b[0m\u001b[0;34m\u001b[0m\u001b[0m\n",
      "\u001b[0;32m/usr/lib/python3.7/ftplib.py\u001b[0m in \u001b[0;36mgetresp\u001b[0;34m(self)\u001b[0m\n\u001b[1;32m    234\u001b[0m     \u001b[0;31m# Raise various errors if the response indicates an error\u001b[0m\u001b[0;34m\u001b[0m\u001b[0;34m\u001b[0m\u001b[0;34m\u001b[0m\u001b[0m\n\u001b[1;32m    235\u001b[0m     \u001b[0;32mdef\u001b[0m \u001b[0mgetresp\u001b[0m\u001b[0;34m(\u001b[0m\u001b[0mself\u001b[0m\u001b[0;34m)\u001b[0m\u001b[0;34m:\u001b[0m\u001b[0;34m\u001b[0m\u001b[0;34m\u001b[0m\u001b[0m\n\u001b[0;32m--> 236\u001b[0;31m         \u001b[0mresp\u001b[0m \u001b[0;34m=\u001b[0m \u001b[0mself\u001b[0m\u001b[0;34m.\u001b[0m\u001b[0mgetmultiline\u001b[0m\u001b[0;34m(\u001b[0m\u001b[0;34m)\u001b[0m\u001b[0;34m\u001b[0m\u001b[0;34m\u001b[0m\u001b[0m\n\u001b[0m\u001b[1;32m    237\u001b[0m         \u001b[0;32mif\u001b[0m \u001b[0mself\u001b[0m\u001b[0;34m.\u001b[0m\u001b[0mdebugging\u001b[0m\u001b[0;34m:\u001b[0m\u001b[0;34m\u001b[0m\u001b[0;34m\u001b[0m\u001b[0m\n\u001b[1;32m    238\u001b[0m             \u001b[0mprint\u001b[0m\u001b[0;34m(\u001b[0m\u001b[0;34m'*resp*'\u001b[0m\u001b[0;34m,\u001b[0m \u001b[0mself\u001b[0m\u001b[0;34m.\u001b[0m\u001b[0msanitize\u001b[0m\u001b[0;34m(\u001b[0m\u001b[0mresp\u001b[0m\u001b[0;34m)\u001b[0m\u001b[0;34m)\u001b[0m\u001b[0;34m\u001b[0m\u001b[0;34m\u001b[0m\u001b[0m\n",
      "\u001b[0;32m/usr/lib/python3.7/ftplib.py\u001b[0m in \u001b[0;36mgetmultiline\u001b[0;34m(self)\u001b[0m\n\u001b[1;32m    220\u001b[0m     \u001b[0;31m# these are separated by '\\n' characters in the string\u001b[0m\u001b[0;34m\u001b[0m\u001b[0;34m\u001b[0m\u001b[0;34m\u001b[0m\u001b[0m\n\u001b[1;32m    221\u001b[0m     \u001b[0;32mdef\u001b[0m \u001b[0mgetmultiline\u001b[0m\u001b[0;34m(\u001b[0m\u001b[0mself\u001b[0m\u001b[0;34m)\u001b[0m\u001b[0;34m:\u001b[0m\u001b[0;34m\u001b[0m\u001b[0;34m\u001b[0m\u001b[0m\n\u001b[0;32m--> 222\u001b[0;31m         \u001b[0mline\u001b[0m \u001b[0;34m=\u001b[0m \u001b[0mself\u001b[0m\u001b[0;34m.\u001b[0m\u001b[0mgetline\u001b[0m\u001b[0;34m(\u001b[0m\u001b[0;34m)\u001b[0m\u001b[0;34m\u001b[0m\u001b[0;34m\u001b[0m\u001b[0m\n\u001b[0m\u001b[1;32m    223\u001b[0m         \u001b[0;32mif\u001b[0m \u001b[0mline\u001b[0m\u001b[0;34m[\u001b[0m\u001b[0;36m3\u001b[0m\u001b[0;34m:\u001b[0m\u001b[0;36m4\u001b[0m\u001b[0;34m]\u001b[0m \u001b[0;34m==\u001b[0m \u001b[0;34m'-'\u001b[0m\u001b[0;34m:\u001b[0m\u001b[0;34m\u001b[0m\u001b[0;34m\u001b[0m\u001b[0m\n\u001b[1;32m    224\u001b[0m             \u001b[0mcode\u001b[0m \u001b[0;34m=\u001b[0m \u001b[0mline\u001b[0m\u001b[0;34m[\u001b[0m\u001b[0;34m:\u001b[0m\u001b[0;36m3\u001b[0m\u001b[0;34m]\u001b[0m\u001b[0;34m\u001b[0m\u001b[0;34m\u001b[0m\u001b[0m\n",
      "\u001b[0;32m/usr/lib/python3.7/ftplib.py\u001b[0m in \u001b[0;36mgetline\u001b[0;34m(self)\u001b[0m\n\u001b[1;32m    202\u001b[0m     \u001b[0;31m# Raise EOFError if the connection is closed\u001b[0m\u001b[0;34m\u001b[0m\u001b[0;34m\u001b[0m\u001b[0;34m\u001b[0m\u001b[0m\n\u001b[1;32m    203\u001b[0m     \u001b[0;32mdef\u001b[0m \u001b[0mgetline\u001b[0m\u001b[0;34m(\u001b[0m\u001b[0mself\u001b[0m\u001b[0;34m)\u001b[0m\u001b[0;34m:\u001b[0m\u001b[0;34m\u001b[0m\u001b[0;34m\u001b[0m\u001b[0m\n\u001b[0;32m--> 204\u001b[0;31m         \u001b[0mline\u001b[0m \u001b[0;34m=\u001b[0m \u001b[0mself\u001b[0m\u001b[0;34m.\u001b[0m\u001b[0mfile\u001b[0m\u001b[0;34m.\u001b[0m\u001b[0mreadline\u001b[0m\u001b[0;34m(\u001b[0m\u001b[0mself\u001b[0m\u001b[0;34m.\u001b[0m\u001b[0mmaxline\u001b[0m \u001b[0;34m+\u001b[0m \u001b[0;36m1\u001b[0m\u001b[0;34m)\u001b[0m\u001b[0;34m\u001b[0m\u001b[0;34m\u001b[0m\u001b[0m\n\u001b[0m\u001b[1;32m    205\u001b[0m         \u001b[0;32mif\u001b[0m \u001b[0mlen\u001b[0m\u001b[0;34m(\u001b[0m\u001b[0mline\u001b[0m\u001b[0;34m)\u001b[0m \u001b[0;34m>\u001b[0m \u001b[0mself\u001b[0m\u001b[0;34m.\u001b[0m\u001b[0mmaxline\u001b[0m\u001b[0;34m:\u001b[0m\u001b[0;34m\u001b[0m\u001b[0;34m\u001b[0m\u001b[0m\n\u001b[1;32m    206\u001b[0m             \u001b[0;32mraise\u001b[0m \u001b[0mError\u001b[0m\u001b[0;34m(\u001b[0m\u001b[0;34m\"got more than %d bytes\"\u001b[0m \u001b[0;34m%\u001b[0m \u001b[0mself\u001b[0m\u001b[0;34m.\u001b[0m\u001b[0mmaxline\u001b[0m\u001b[0;34m)\u001b[0m\u001b[0;34m\u001b[0m\u001b[0;34m\u001b[0m\u001b[0m\n",
      "\u001b[0;32m/usr/lib/python3.7/socket.py\u001b[0m in \u001b[0;36mreadinto\u001b[0;34m(self, b)\u001b[0m\n\u001b[1;32m    587\u001b[0m         \u001b[0;32mwhile\u001b[0m \u001b[0;32mTrue\u001b[0m\u001b[0;34m:\u001b[0m\u001b[0;34m\u001b[0m\u001b[0;34m\u001b[0m\u001b[0m\n\u001b[1;32m    588\u001b[0m             \u001b[0;32mtry\u001b[0m\u001b[0;34m:\u001b[0m\u001b[0;34m\u001b[0m\u001b[0;34m\u001b[0m\u001b[0m\n\u001b[0;32m--> 589\u001b[0;31m                 \u001b[0;32mreturn\u001b[0m \u001b[0mself\u001b[0m\u001b[0;34m.\u001b[0m\u001b[0m_sock\u001b[0m\u001b[0;34m.\u001b[0m\u001b[0mrecv_into\u001b[0m\u001b[0;34m(\u001b[0m\u001b[0mb\u001b[0m\u001b[0;34m)\u001b[0m\u001b[0;34m\u001b[0m\u001b[0;34m\u001b[0m\u001b[0m\n\u001b[0m\u001b[1;32m    590\u001b[0m             \u001b[0;32mexcept\u001b[0m \u001b[0mtimeout\u001b[0m\u001b[0;34m:\u001b[0m\u001b[0;34m\u001b[0m\u001b[0;34m\u001b[0m\u001b[0m\n\u001b[1;32m    591\u001b[0m                 \u001b[0mself\u001b[0m\u001b[0;34m.\u001b[0m\u001b[0m_timeout_occurred\u001b[0m \u001b[0;34m=\u001b[0m \u001b[0;32mTrue\u001b[0m\u001b[0;34m\u001b[0m\u001b[0;34m\u001b[0m\u001b[0m\n",
      "\u001b[0;31mKeyboardInterrupt\u001b[0m: "
     ]
    }
   ],
   "source": [
    "# This is the part of the code that downloads any files that exist in the list of valid experiments.\n",
    "# Please note, it will currently not download the files for any experiment that already have a file existing\n",
    "#  in the directory. So it will not get the most up-to-date files without adding more complex conditions.\n",
    "\n",
    "ftp = FTP('cddis.gsfc.nasa.gov')\n",
    "#print(ftp.getwelcome())\n",
    "ftp.login()\n",
    "\n",
    "year = '2016'\n",
    "for exp in experiments_to_download:\n",
    "    if os.path.isfile(os.getcwd()+'/analysis_reports/'+exp.lower()+'_report.txt'):\n",
    "        continue\n",
    "    else:\n",
    "        exp = exp.lower()\n",
    "        ftp.cwd('/vlbi/ivsdata/aux/'+str(year)+ '/' + exp)\n",
    "        options = ['ivs', 'IVS', 'usno', 'USNO']\n",
    "        for spelling in options:\n",
    "            filename_report = []\n",
    "            filename_spool = []\n",
    "            ftp.retrlines('LIST '+exp+'-'+spelling+'-analysis-report*', filename_report.append)\n",
    "            ftp.retrlines('LIST '+exp+'-'+spelling+'-analysis-spoolfile*', filename_spool.append)\n",
    "            if len(filename_report) > 0:\n",
    "                local_filename_report = os.path.join(os.getcwd(), 'analysis_reports/' + exp + '_report.txt')\n",
    "                local_filename_spool = os.path.join(os.getcwd(), 'analysis_reports/' + exp + '_spoolfile.txt')\n",
    "                lf1 = open(local_filename_report, \"wb\")\n",
    "                lf2 = open(local_filename_spool, \"wb\")\n",
    "                ftp.retrbinary(\"RETR \" + filename_report[len(filename_report)-1].split()[8], lf1.write)\n",
    "                ftp.retrbinary(\"RETR \" + filename_spool[len(filename_report)-1].split()[8], lf2.write)\n",
    "                lf1.close()\n",
    "                lf2.close()\n",
    "                break\n",
    "        "
   ]
  },
  {
   "cell_type": "code",
   "execution_count": 30,
   "metadata": {},
   "outputs": [
    {
     "data": {
      "text/plain": [
       "'/home/tiege/Documents/research/auscope/metric_ingest/analysis_reports/r4876_report.txt'"
      ]
     },
     "execution_count": 30,
     "metadata": {},
     "output_type": "execute_result"
    }
   ],
   "source": [
    "os.getcwd()+'/analysis_reports/'+exp+'_report.txt'"
   ]
  },
  {
   "cell_type": "code",
   "execution_count": 46,
   "metadata": {},
   "outputs": [
    {
     "data": {
      "text/plain": [
       "['R1875',\n",
       " 'R4875',\n",
       " 'R4876',\n",
       " 'R1877',\n",
       " 'CRDS99',\n",
       " 'AUA048',\n",
       " 'R4877',\n",
       " 'AOV031',\n",
       " 'R1878',\n",
       " 'R4878',\n",
       " 'R1879',\n",
       " 'T2130',\n",
       " 'R4879',\n",
       " 'R1880',\n",
       " 'OHG117',\n",
       " 'RD1902',\n",
       " 'R4880',\n",
       " 'R1881',\n",
       " 'AOV032',\n",
       " 'AUA049',\n",
       " 'R4881',\n",
       " 'CRD100',\n",
       " 'R1882',\n",
       " 'R1883',\n",
       " 'R4883',\n",
       " 'R1884',\n",
       " 'R4884',\n",
       " 'R1885',\n",
       " 'AUA050',\n",
       " 'R4885',\n",
       " 'R1886',\n",
       " 'APSG44',\n",
       " 'AOV033',\n",
       " 'R4886',\n",
       " 'R1887',\n",
       " 'T2131',\n",
       " 'CRD101',\n",
       " 'R4887',\n",
       " 'R1888',\n",
       " 'OHG118',\n",
       " 'AOV034',\n",
       " 'R4888',\n",
       " 'R1889',\n",
       " 'RD1903',\n",
       " 'CRF110',\n",
       " 'R4889',\n",
       " 'AUA051',\n",
       " 'R1890',\n",
       " 'APSG45',\n",
       " 'R4890',\n",
       " 'R1891',\n",
       " 'R4891',\n",
       " 'R1892',\n",
       " 'R4892',\n",
       " 'CRD102',\n",
       " 'R1893',\n",
       " 'RD1904',\n",
       " 'R4893',\n",
       " 'R1894',\n",
       " 'AOV035',\n",
       " 'AUA052',\n",
       " 'R4894',\n",
       " 'R1895',\n",
       " 'T2132',\n",
       " 'R4895',\n",
       " 'R1896',\n",
       " 'R4896',\n",
       " 'R1897',\n",
       " 'OHG119',\n",
       " 'R4897',\n",
       " 'R1898',\n",
       " 'R4898',\n",
       " 'R1899',\n",
       " 'AOV036',\n",
       " 'AUA053',\n",
       " 'R4899',\n",
       " 'R1900',\n",
       " 'CRD103',\n",
       " 'RD1905',\n",
       " 'R4900',\n",
       " 'R1901',\n",
       " 'CRF111',\n",
       " 'R4901',\n",
       " 'R1902',\n",
       " 'AUA054',\n",
       " 'RD1906',\n",
       " 'R4902',\n",
       " 'R1903',\n",
       " 'CRF112',\n",
       " 'AOV037',\n",
       " 'R4903',\n",
       " 'R1904',\n",
       " 'T2133',\n",
       " 'RD1907',\n",
       " 'R4904',\n",
       " 'R1905',\n",
       " 'R4905',\n",
       " 'R1906',\n",
       " 'CRD104',\n",
       " 'AOV038',\n",
       " 'R4906',\n",
       " 'R1907',\n",
       " 'OHG120',\n",
       " 'R4907',\n",
       " 'R1908',\n",
       " 'AUA055',\n",
       " 'R4908',\n",
       " 'R1909',\n",
       " 'RD1908',\n",
       " 'R4909',\n",
       " 'R1910',\n",
       " 'R4910',\n",
       " 'R1911',\n",
       " 'CRF113',\n",
       " 'RD1909',\n",
       " 'R4911',\n",
       " 'R1912',\n",
       " 'AOV039',\n",
       " 'AUA056',\n",
       " 'R4912',\n",
       " 'R1913',\n",
       " 'T2134',\n",
       " 'RD1910',\n",
       " 'R4913',\n",
       " 'R1914',\n",
       " 'R4914',\n",
       " 'OHG121',\n",
       " 'R1915',\n",
       " 'AUA057',\n",
       " 'R4915',\n",
       " 'R1916',\n",
       " 'AOV040',\n",
       " 'R4916',\n",
       " 'R1917',\n",
       " 'R4917',\n",
       " 'R1918',\n",
       " 'R4918',\n",
       " 'R1919',\n",
       " 'OHG122',\n",
       " 'R4919',\n",
       " 'R1920',\n",
       " 'AOV041',\n",
       " 'R4920',\n",
       " 'R1921',\n",
       " 'T2135',\n",
       " 'R4921',\n",
       " 'R1922',\n",
       " 'R4922',\n",
       " 'AUA058',\n",
       " 'R1923',\n",
       " 'AOV042',\n",
       " 'AUA059',\n",
       " 'R4923',\n",
       " 'R1924',\n",
       " 'T2136',\n",
       " 'CRF115',\n",
       " 'R4924',\n",
       " 'R1925',\n",
       " 'R4925']"
      ]
     },
     "execution_count": 46,
     "metadata": {},
     "output_type": "execute_result"
    }
   ],
   "source": [
    "experiments_to_download"
   ]
  },
  {
   "cell_type": "code",
   "execution_count": 9,
   "metadata": {},
   "outputs": [
    {
     "data": {
      "text/plain": [
       "[]"
      ]
     },
     "execution_count": 9,
     "metadata": {},
     "output_type": "execute_result"
    }
   ],
   "source": [
    "filename_report\n"
   ]
  },
  {
   "cell_type": "code",
   "execution_count": 19,
   "metadata": {},
   "outputs": [],
   "source": [
    "ftp = FTP('cddis.gsfc.nasa.gov')\n",
    "#print(ftp.getwelcome())\n",
    "ftp.login()\n",
    "ftp.cwd('/vlbi/ivsdata/aux/'+str(year)+ '/' + 'r4875')\n",
    "filename_report = []"
   ]
  },
  {
   "cell_type": "code",
   "execution_count": 20,
   "metadata": {
    "scrolled": true
   },
   "outputs": [
    {
     "data": {
      "text/plain": [
       "'226 Directory send OK.'"
      ]
     },
     "execution_count": 20,
     "metadata": {},
     "output_type": "execute_result"
    }
   ],
   "source": [
    "ftp.retrlines('LIST '+'r4875'+'-'+'ivs'+'-analysis-report*', filename_report.append)\n"
   ]
  },
  {
   "cell_type": "code",
   "execution_count": 26,
   "metadata": {},
   "outputs": [
    {
     "data": {
      "text/plain": [
       "1"
      ]
     },
     "execution_count": 26,
     "metadata": {},
     "output_type": "execute_result"
    }
   ],
   "source": [
    "len(filename_report) -1"
   ]
  },
  {
   "cell_type": "code",
   "execution_count": 6,
   "metadata": {},
   "outputs": [],
   "source": []
  },
  {
   "cell_type": "code",
   "execution_count": 9,
   "metadata": {},
   "outputs": [],
   "source": [
    "from ftplib import FTP\n",
    "ftp = FTP('cddis.gsfc.nasa.gov')\n",
    "ftp.login()\n",
    "exp = 'crd103'\n",
    "year = 2019"
   ]
  },
  {
   "cell_type": "code",
   "execution_count": 10,
   "metadata": {},
   "outputs": [
    {
     "data": {
      "text/plain": [
       "'226 Directory send OK.'"
      ]
     },
     "execution_count": 10,
     "metadata": {},
     "output_type": "execute_result"
    }
   ],
   "source": [
    "filename_skd = []\n",
    "ftp.retrlines('LIST /vlbi/ivsdata/aux/'+str(year)+ '/' + exp +'.skd', filename_skd.append)"
   ]
  },
  {
   "cell_type": "code",
   "execution_count": 11,
   "metadata": {},
   "outputs": [
    {
     "data": {
      "text/plain": [
       "[]"
      ]
     },
     "execution_count": 11,
     "metadata": {},
     "output_type": "execute_result"
    }
   ],
   "source": [
    "filename_skd"
   ]
  },
  {
   "cell_type": "code",
   "execution_count": 13,
   "metadata": {},
   "outputs": [
    {
     "data": {
      "text/plain": [
       "False"
      ]
     },
     "execution_count": 13,
     "metadata": {},
     "output_type": "execute_result"
    }
   ],
   "source": [
    "import os\n",
    "\n",
    "os.path.isfile(os.getcwd()+'/analysis_reports/'+'r1900'+'_report.txt')"
   ]
  },
  {
   "cell_type": "code",
   "execution_count": 14,
   "metadata": {},
   "outputs": [],
   "source": [
    "def checkExistingData(db_name):\n",
    "    # db_name should be the name of the auscope database (as a string) we want to query for \n",
    "    #  unique existing experiment IDs\n",
    "    conn = mariadb.connect(user='auscope', passwd='password', db=db_name)\n",
    "    cursor = conn.cursor()\n",
    "    station_key = ['Ke', 'Yg', 'Hb', 'Ho']\n",
    "    existing_experiments = []\n",
    "\n",
    "    for ant in station_key:\n",
    "        query = \"SELECT ExpID FROM \" + ant\n",
    "        cursor.execute(query)\n",
    "        result_list = [item for sublist in cursor.fetchall() for item in sublist]\n",
    "        existing_experiments.append(result_list)\n",
    "    \n",
    "    existing_experiments = [item for sublist in existing_experiments for item in sublist]\n",
    "    unique_existing_experiments = set(existing_experiments)\n",
    "    return unique_existing_experiments\n"
   ]
  },
  {
   "cell_type": "code",
   "execution_count": 15,
   "metadata": {},
   "outputs": [],
   "source": [
    "def validExpFinder(master_schedule):\n",
    "    schedule = str(master_schedule)\n",
    "    with open(schedule) as file:\n",
    "        schedule_contents = file.readlines()\n",
    "    valid_experiment = []\n",
    "    for line in schedule_contents:\n",
    "        line = line.split('|')\n",
    "        if len(line) > 13:\n",
    "            regex = '(?<!-)Ke|(?<!-)Yg|(?<!-)Hb|(?<!-)Ho'\n",
    "            participated = re.findall(regex,line[7],re.MULTILINE)\n",
    "            if len(participated) > 0:\n",
    "                valid_experiment.append(line[2].strip())\n",
    "    return valid_experiment"
   ]
  },
  {
   "cell_type": "code",
   "execution_count": 16,
   "metadata": {},
   "outputs": [
    {
     "ename": "NameError",
     "evalue": "name 'master19' is not defined",
     "output_type": "error",
     "traceback": [
      "\u001b[0;31m---------------------------------------------------------------------------\u001b[0m",
      "\u001b[0;31mNameError\u001b[0m                                 Traceback (most recent call last)",
      "\u001b[0;32m<ipython-input-16-5ee1d247d1ee>\u001b[0m in \u001b[0;36m<module>\u001b[0;34m\u001b[0m\n\u001b[0;32m----> 1\u001b[0;31m \u001b[0mschedule\u001b[0m \u001b[0;34m=\u001b[0m \u001b[0mstr\u001b[0m\u001b[0;34m(\u001b[0m\u001b[0mmaster19\u001b[0m\u001b[0;34m.\u001b[0m\u001b[0mtxt\u001b[0m\u001b[0;34m)\u001b[0m\u001b[0;34m\u001b[0m\u001b[0;34m\u001b[0m\u001b[0m\n\u001b[0m",
      "\u001b[0;31mNameError\u001b[0m: name 'master19' is not defined"
     ]
    }
   ],
   "source": [
    "schedule = 'master19.txt'"
   ]
  },
  {
   "cell_type": "code",
   "execution_count": null,
   "metadata": {},
   "outputs": [],
   "source": []
  }
 ],
 "metadata": {
  "kernelspec": {
   "display_name": "Python 3",
   "language": "python",
   "name": "python3"
  },
  "language_info": {
   "codemirror_mode": {
    "name": "ipython",
    "version": 3
   },
   "file_extension": ".py",
   "mimetype": "text/x-python",
   "name": "python",
   "nbconvert_exporter": "python",
   "pygments_lexer": "ipython3",
   "version": "3.7.3"
  }
 },
 "nbformat": 4,
 "nbformat_minor": 2
}
