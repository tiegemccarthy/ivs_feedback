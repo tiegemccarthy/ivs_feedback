{
 "cells": [
  {
   "cell_type": "code",
   "execution_count": 17,
   "metadata": {},
   "outputs": [],
   "source": [
    "import numpy as np\n",
    "from numpy.random import randint\n",
    "import scipy.optimize\n",
    "\n",
    "# Removed random right-hand side values and changed nomenclature a bit.\n",
    "def f(x):\n",
    "    x1, x2, x3, x4 = x\n",
    "    return np.asarray((x1*x2,x1*x3,x1*x4,x2*x3,x2*x4,x3*x4))\n",
    "\n",
    "# The second parameter is used to set the solution vector using the args\n",
    "# argument of leastsq.\n",
    "def system(x,b):\n",
    "    return (f(x)-b)\n",
    "\n",
    "b = np.array([2,3,4,6,8,12])\n",
    "# this b array should end up giving x1, x2, x3, x4 = 1, 2, 3, 4\n",
    "x = scipy.optimize.leastsq(system, np.asarray((2,2,2,2)), args=b)[0]"
   ]
  },
  {
   "cell_type": "code",
   "execution_count": 31,
   "metadata": {},
   "outputs": [
    {
     "name": "stdout",
     "output_type": "stream",
     "text": [
      "[0.344641, 0.42078699, 0.75974698, 0.50802347, 0.55354871, 0.48954548]\n"
     ]
    }
   ],
   "source": [
    "test = [0.344641,0.42078699,0.75974698, 0.50802347, 0.55354871, 0.48954548]\n",
    "print(test)"
   ]
  },
  {
   "cell_type": "code",
   "execution_count": 33,
   "metadata": {},
   "outputs": [
    {
     "name": "stdout",
     "output_type": "stream",
     "text": [
      "[0.72940063 0.60663532 0.60376139 0.93750455]\n"
     ]
    }
   ],
   "source": [
    "import numpy as np\n",
    "from numpy.random import randint\n",
    "import scipy.optimize\n",
    "\n",
    "# Removed random right-hand side values and changed nomenclature a bit.\n",
    "def f(x):\n",
    "    x1, x2, x3, x4 = x\n",
    "    return np.asarray((x1*x2,x1*x3,x1*x4,x2*x3,x2*x4,x3*x4))\n",
    "\n",
    "# The second parameter is used to set the solution vector using the args\n",
    "# argument of leastsq.\n",
    "def system(x,b):\n",
    "    return (f(x)-b)\n",
    "\n",
    "b = test#np.array([2,3,4,6,8,12])\n",
    "# this b array should end up giving x1, x2, x3, x4 = 1, 2, 3, 4\n",
    "x = scipy.optimize.leastsq(system, np.asarray((2,2,2,2)), args=b)[0]\n",
    "print(x)"
   ]
  },
  {
   "cell_type": "code",
   "execution_count": 34,
   "metadata": {},
   "outputs": [
    {
     "name": "stdout",
     "output_type": "stream",
     "text": [
      "[0.70557874 0.58009127 0.6040317  0.96136476]\n"
     ]
    }
   ],
   "source": [
    "test_extra = [0.344641, 0.344641,  0.42078699, 0.75974698, 0.50802347, 0.55354871, 0.48954548]\n",
    "\n",
    "import numpy as np\n",
    "from numpy.random import randint\n",
    "import scipy.optimize\n",
    "\n",
    "# Removed random right-hand side values and changed nomenclature a bit.\n",
    "def f(x):\n",
    "    x1, x2, x3, x4 = x\n",
    "    return np.asarray((x1*x2,x1*x2,x1*x3,x1*x4,x2*x3,x2*x4,x3*x4))\n",
    "\n",
    "# The second parameter is used to set the solution vector using the args\n",
    "# argument of leastsq.\n",
    "def system(x,b):\n",
    "    return (f(x)-b)\n",
    "\n",
    "b = test_extra#np.array([2,3,4,6,8,12])\n",
    "# this b array should end up giving x1, x2, x3, x4 = 1, 2, 3, 4\n",
    "x = scipy.optimize.leastsq(system, np.asarray((2,2,2,2)), args=b)[0]\n",
    "print(x)"
   ]
  },
  {
   "cell_type": "code",
   "execution_count": 37,
   "metadata": {},
   "outputs": [
    {
     "name": "stdout",
     "output_type": "stream",
     "text": [
      "[0.48739597634982584, 0.42078699, 0.75974698, 0.50802347, 0.55354871, 0.48954548]\n"
     ]
    }
   ],
   "source": [
    "test_2 = [np.sqrt(2)*0.344641, 0.42078699, 0.75974698, 0.50802347, 0.55354871, 0.48954548]\n",
    "print(test_2)"
   ]
  },
  {
   "cell_type": "code",
   "execution_count": 38,
   "metadata": {},
   "outputs": [
    {
     "name": "stdout",
     "output_type": "stream",
     "text": [
      "[0.70557874 0.58009127 0.6040317  0.96136476]\n"
     ]
    }
   ],
   "source": [
    "import numpy as np\n",
    "from numpy.random import randint\n",
    "import scipy.optimize\n",
    "\n",
    "# Removed random right-hand side values and changed nomenclature a bit.\n",
    "def f(x):\n",
    "    x1, x2, x3, x4 = x\n",
    "    return np.asarray((np.sqrt(2)*x1*x2,x1*x3,x1*x4,x2*x3,x2*x4,x3*x4))\n",
    "\n",
    "# The second parameter is used to set the solution vector using the args\n",
    "# argument of leastsq.\n",
    "def system(x,b):\n",
    "    return (f(x)-b)\n",
    "\n",
    "b = test_2#np.array([2,3,4,6,8,12])\n",
    "# this b array should end up giving x1, x2, x3, x4 = 1, 2, 3, 4\n",
    "x = scipy.optimize.leastsq(system, np.asarray((2,2,2,2)), args=b)[0]\n",
    "print(x)"
   ]
  },
  {
   "cell_type": "markdown",
   "metadata": {},
   "source": [
    "test 1.5 and test 2 are equivalent!"
   ]
  },
  {
   "cell_type": "code",
   "execution_count": 25,
   "metadata": {},
   "outputs": [
    {
     "name": "stdout",
     "output_type": "stream",
     "text": [
      "[15000, 20000, 17500, 30000, 26250, 35000]\n"
     ]
    }
   ],
   "source": [
    "a = 100\n",
    "b = 150\n",
    "c = 200\n",
    "d = 175\n",
    "\n",
    "arg_array = [a*b, a*c, a*d, b*c, b*d, c*d]\n",
    "print(arg_array)"
   ]
  },
  {
   "cell_type": "code",
   "execution_count": 26,
   "metadata": {},
   "outputs": [
    {
     "name": "stdout",
     "output_type": "stream",
     "text": [
      "[100. 150. 200. 175.]\n"
     ]
    }
   ],
   "source": [
    "import numpy as np\n",
    "from numpy.random import randint\n",
    "import scipy.optimize\n",
    "\n",
    "# Removed random right-hand side values and changed nomenclature a bit.\n",
    "def f(x):\n",
    "    x1, x2, x3, x4 = x\n",
    "    return np.asarray((x1*x2,x1*x3,x1*x4,x2*x3,x2*x4,x3*x4))\n",
    "\n",
    "# The second parameter is used to set the solution vector using the args\n",
    "# argument of leastsq.\n",
    "def system(x,b):\n",
    "    return (f(x)-b)\n",
    "\n",
    "#b = np.array([2,3,4,6,8,12])\n",
    "# this b array should end up giving x1, x2, x3, x4 = 1, 2, 3, 4\n",
    "x = scipy.optimize.leastsq(system, np.asarray((100,100,100,100)), args=arg_array)[0]\n",
    "print(x)"
   ]
  },
  {
   "cell_type": "code",
   "execution_count": 27,
   "metadata": {},
   "outputs": [
    {
     "name": "stdout",
     "output_type": "stream",
     "text": [
      "[15000, 20000, 17500, 30000, 26250, 35000]\n",
      "[ 0.         -0.10522227 -0.0622748   0.07046616 -0.0084087   0.06071947]\n",
      "[15000.0, 22104.445375825748, 18589.808963610954, 27886.01531470827, 26470.728337048666, 32874.818661604695]\n"
     ]
    }
   ],
   "source": [
    "a = 100\n",
    "b = 150\n",
    "c = 200\n",
    "d = 175\n",
    "\n",
    "arg_array = [a*b, a*c, a*d, b*c, b*d, c*d]\n",
    "print(arg_array)\n",
    "noise = np.random.normal(0,0.05,6)\n",
    "noise[0] = 0\n",
    "noisy_arg_array = []\n",
    "for i in range(0, len(arg_array)):\n",
    "    noisy_data = (1-noise[i])*arg_array[i]\n",
    "    noisy_arg_array.append(noisy_data)\n",
    "print(noise)\n",
    "print(noisy_arg_array)"
   ]
  },
  {
   "cell_type": "code",
   "execution_count": 28,
   "metadata": {},
   "outputs": [
    {
     "name": "stdout",
     "output_type": "stream",
     "text": [
      "[109.20714957 146.76382729 191.86060293 173.92016862]\n",
      "16027.659238625458\n"
     ]
    }
   ],
   "source": [
    "import numpy as np\n",
    "from numpy.random import randint\n",
    "import scipy.optimize\n",
    "\n",
    "# Removed random right-hand side values and changed nomenclature a bit.\n",
    "def f(x):\n",
    "    x1, x2, x3, x4 = x\n",
    "    return np.asarray((x1*x2,x1*x3,x1*x4,x2*x3,x2*x4,x3*x4))\n",
    "\n",
    "# The second parameter is used to set the solution vector using the args\n",
    "# argument of leastsq.\n",
    "def system(x,b):\n",
    "    return (f(x)-b)\n",
    "\n",
    "#b = np.array([2,3,4,6,8,12])\n",
    "# this b array should end up giving x1, x2, x3, x4 = 1, 2, 3, 4\n",
    "x = scipy.optimize.leastsq(system, np.asarray((100,100,100,100)), args=noisy_arg_array)[0]\n",
    "print(x)\n",
    "print(x[0]*x[1])"
   ]
  },
  {
   "cell_type": "code",
   "execution_count": 29,
   "metadata": {},
   "outputs": [],
   "source": [
    "noisy_arg_array_2 = noisy_arg_array.copy()\n",
    "noisy_arg_array_2[0] = np.sqrt(100)*noisy_arg_array_2[0]"
   ]
  },
  {
   "cell_type": "code",
   "execution_count": 30,
   "metadata": {},
   "outputs": [
    {
     "name": "stdout",
     "output_type": "stream",
     "text": [
      "[105.02736634 143.0639638  194.06285611 175.23859375]\n",
      "15025.631336847347\n"
     ]
    }
   ],
   "source": [
    "\n",
    "import numpy as np\n",
    "from numpy.random import randint\n",
    "import scipy.optimize\n",
    "\n",
    "# Removed random right-hand side values and changed nomenclature a bit.\n",
    "def f(x):\n",
    "    x1, x2, x3, x4 = x\n",
    "    return np.asarray((np.sqrt(100)*x1*x2,x1*x3,x1*x4,x2*x3,x2*x4,x3*x4))\n",
    "\n",
    "# The second parameter is used to set the solution vector using the args\n",
    "# argument of leastsq.\n",
    "def system(x,b):\n",
    "    return (f(x)-b)\n",
    "\n",
    "#b = np.array([2,3,4,6,8,12])\n",
    "# this b array should end up giving x1, x2, x3, x4 = 1, 2, 3, 4\n",
    "x = scipy.optimize.leastsq(system, np.asarray((110,100,100,100)), args=noisy_arg_array_2)[0]\n",
    "print(x)\n",
    "print(x[0]*x[1])"
   ]
  },
  {
   "cell_type": "code",
   "execution_count": 31,
   "metadata": {},
   "outputs": [],
   "source": [
    "noisy_arg_array_3 = noisy_arg_array.copy()\n",
    "noisy_arg_array_3[0] = np.sqrt(1000)*noisy_arg_array_3[0]"
   ]
  },
  {
   "cell_type": "code",
   "execution_count": 32,
   "metadata": {},
   "outputs": [
    {
     "name": "stdout",
     "output_type": "stream",
     "text": [
      "[104.92911093 142.97844657 194.113741   175.26787435]\n",
      "15002.601279895864\n"
     ]
    }
   ],
   "source": [
    "import numpy as np\n",
    "from numpy.random import randint\n",
    "import scipy.optimize\n",
    "\n",
    "# Removed random right-hand side values and changed nomenclature a bit.\n",
    "def f(x):\n",
    "    x1, x2, x3, x4 = x\n",
    "    return np.asarray((np.sqrt(1000)*x1*x2,x1*x3,x1*x4,x2*x3,x2*x4,x3*x4))\n",
    "\n",
    "# The second parameter is used to set the solution vector using the args\n",
    "# argument of leastsq.\n",
    "def system(x,b):\n",
    "    return (f(x)-b)\n",
    "\n",
    "#b = np.array([2,3,4,6,8,12])\n",
    "# this b array should end up giving x1, x2, x3, x4 = 1, 2, 3, 4\n",
    "x = scipy.optimize.leastsq(system, np.asarray((100,100,100,100)), args=noisy_arg_array_3)[0]\n",
    "print(x)\n",
    "print(x[0]*x[1])"
   ]
  },
  {
   "cell_type": "markdown",
   "metadata": {},
   "source": [
    "going to try and recreate what I am doing above but with a weight array in the system definition!"
   ]
  },
  {
   "cell_type": "code",
   "execution_count": 24,
   "metadata": {},
   "outputs": [
    {
     "name": "stdout",
     "output_type": "stream",
     "text": [
      "[ 97.81625095 153.35262334 194.24182335 170.02819452]\n",
      "15000.378687696137\n"
     ]
    }
   ],
   "source": [
    "import numpy as np\n",
    "from numpy.random import randint\n",
    "import scipy.optimize\n",
    "\n",
    "# Removed random right-hand side values and changed nomenclature a bit.\n",
    "def f(x):\n",
    "    x1, x2, x3, x4 = x\n",
    "    return np.asarray((x1*x2,x1*x3,x1*x4,x2*x3,x2*x4,x3*x4))\n",
    "\n",
    "# The second parameter is used to set the solution vector using the args\n",
    "# argument of leastsq.\n",
    "def system(x,w,b):\n",
    "    return w*(f(x)-b)\n",
    "\n",
    "\n",
    "weights = [np.sqrt(1000),1,1,1,1,1]\n",
    "#b = np.array([2,3,4,6,8,12])\n",
    "# this b array should end up giving x1, x2, x3, x4 = 1, 2, 3, 4\n",
    "x = scipy.optimize.leastsq(system, np.asarray((100,100,100,100)), args=(weights,noisy_arg_array))[0]\n",
    "print(x)\n",
    "print(x[0]*x[1])"
   ]
  },
  {
   "cell_type": "markdown",
   "metadata": {},
   "source": [
    "The above weights the equation and the corresponding b value!"
   ]
  },
  {
   "cell_type": "code",
   "execution_count": 9,
   "metadata": {},
   "outputs": [
    {
     "data": {
      "text/plain": [
       "[474341.64902525686,\n",
       " 19193.801704937046,\n",
       " 16751.67534609302,\n",
       " 29854.58029084083,\n",
       " 26215.485580927612,\n",
       " 32854.5899758518]"
      ]
     },
     "execution_count": 9,
     "metadata": {},
     "output_type": "execute_result"
    }
   ],
   "source": [
    "noisy_arg_array_3"
   ]
  },
  {
   "cell_type": "code",
   "execution_count": null,
   "metadata": {},
   "outputs": [],
   "source": []
  }
 ],
 "metadata": {
  "kernelspec": {
   "display_name": "Python 3",
   "language": "python",
   "name": "python3"
  },
  "language_info": {
   "codemirror_mode": {
    "name": "ipython",
    "version": 3
   },
   "file_extension": ".py",
   "mimetype": "text/x-python",
   "name": "python",
   "nbconvert_exporter": "python",
   "pygments_lexer": "ipython3",
   "version": "3.7.3"
  }
 },
 "nbformat": 4,
 "nbformat_minor": 2
}
