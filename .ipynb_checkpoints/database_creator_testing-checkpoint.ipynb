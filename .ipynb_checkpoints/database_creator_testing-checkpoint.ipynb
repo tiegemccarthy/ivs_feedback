{
 "cells": [
  {
   "cell_type": "code",
   "execution_count": 21,
   "metadata": {},
   "outputs": [],
   "source": [
    "import re\n",
    "from datetime import datetime\n",
    "import MySQLdb as mariadb\n",
    "import sys\n",
    "import os"
   ]
  },
  {
   "cell_type": "code",
   "execution_count": 32,
   "metadata": {},
   "outputs": [],
   "source": [
    "def problemFinder(text_section): # searches first section of text for a problem, creates two lists one with a boolean value, the other with at least 1 line of the string where a problem is mentioned\n",
    "    stations = [\"KATH12M\", \"YARRA12M\", \"HOBART12\", \"HOBART26\"]\n",
    "    problem_bool = []\n",
    "    problem_string = []\n",
    "    for ant in stations:\n",
    "        regex = ant + \".*\\n[\\s]{11}.*|\" + ant + \".*$\"\n",
    "        problem = re.findall(regex,text_section,re.MULTILINE)\n",
    "        if len(problem) > 0:\n",
    "            problem_bool.append(True)\n",
    "            problem_string.append(problem[0].replace(\"\\n\", \"\"))\n",
    "        else:\n",
    "            problem_bool.append(False)\n",
    "            problem_string.append(\"\")\n",
    "    return problem_bool, problem_string\n",
    "    \n",
    "def percent2decimal(percent_string):\n",
    "    return float(percent_string.strip('%'))/100\n",
    "\n",
    "def stationPerformance(text_section): # Extracts the percentage of useable scans for each station.\n",
    "    stations = [\"KATH12M\", \"YARRA12M\", \"HOBART12\", \"HOBART26\"]\n",
    "    station_performance = []\n",
    "    for ant in stations:\n",
    "        regex = ant + \".*\"\n",
    "        performance = re.findall(regex,text_section,re.MULTILINE)\n",
    "        if len(performance) > 0:\n",
    "            percentage = [s for s in performance[0].split() if '%' in s]\n",
    "            performance = percent2decimal(percentage[0])\n",
    "            station_performance.append(performance)\n",
    "        else:\n",
    "            station_performance.append(None)\n",
    "    \n",
    "    return station_performance\n",
    "    \n",
    "def metaData(text_section): # Extracts meta data from the analysis report file.\n",
    "    date = re.findall(\"(?<=\\$).{7}\",text_section,re.MULTILINE)\n",
    "    date = datetime.strptime(date[0], '%y%b%d').strftime('%Y-%m-%d')\n",
    "    exp_code = re.findall(\"(?<=Analysis Report for\\s)(.*?(?=\\s))\",text_section,re.MULTILINE)\n",
    "    analyser = re.findall(\"\\S.*(?=\\sAnalysis Report for\\s)\",text_section,re.MULTILINE)\n",
    "    return exp_code[0], analyser[0], date\n",
    "    # pretty sure this doesn't work post-2099, but like... you shouldn't be using this trash then... right?\n",
    "    \n",
    "def stationPositions(text_section): # extracts station positons from the spoolfile\n",
    "    stations = [\"KATH12M\", \"YARRA12M\", \"HOBART12\", \"HOBART26\"]\n",
    "    station_positions = []\n",
    "    for ant in stations:\n",
    "        regex = ant + \".*[XYZ]\\sComp.*\"\n",
    "        positions = re.findall(regex,text_section,re.MULTILINE)\n",
    "        positions = [i.split()[5] for i in positions]\n",
    "        station_positions.append(positions)\n",
    "    for i in range(0, len(station_positions)):\n",
    "        if station_positions[i] == []:\n",
    "            station_positions[i] = ['NULL','NULL','NULL'] # this is a gross hacky way to deal with when a station exists in an analyis report but not the spool file.\n",
    "    return station_positions\n"
   ]
  },
  {
   "cell_type": "code",
   "execution_count": 33,
   "metadata": {},
   "outputs": [],
   "source": [
    "exp_code = 'r1892'\n",
    "db_name = 'auscope_test'"
   ]
  },
  {
   "cell_type": "code",
   "execution_count": 38,
   "metadata": {},
   "outputs": [
    {
     "ename": "ProgrammingError",
     "evalue": "(1064, \"You have an error in your SQL syntax; check the manual that corresponds to your MariaDB server version for the right syntax to use near 's for met data. ' , 'IVS')' at line 1\")",
     "output_type": "error",
     "traceback": [
      "\u001b[0;31m---------------------------------------------------------------------------\u001b[0m",
      "\u001b[0;31mProgrammingError\u001b[0m                          Traceback (most recent call last)",
      "\u001b[0;32m<ipython-input-38-7d9a5734562e>\u001b[0m in \u001b[0;36m<module>\u001b[0;34m\u001b[0m\n\u001b[1;32m     23\u001b[0m \u001b[0mcursor\u001b[0m \u001b[0;34m=\u001b[0m \u001b[0mconn\u001b[0m\u001b[0;34m.\u001b[0m\u001b[0mcursor\u001b[0m\u001b[0;34m(\u001b[0m\u001b[0;34m)\u001b[0m\u001b[0;34m\u001b[0m\u001b[0;34m\u001b[0m\u001b[0m\n\u001b[1;32m     24\u001b[0m \u001b[0;32mfor\u001b[0m \u001b[0mi\u001b[0m \u001b[0;32min\u001b[0m \u001b[0mrange\u001b[0m\u001b[0;34m(\u001b[0m\u001b[0;36m0\u001b[0m\u001b[0;34m,\u001b[0m\u001b[0mlen\u001b[0m\u001b[0;34m(\u001b[0m\u001b[0msql_command\u001b[0m\u001b[0;34m)\u001b[0m\u001b[0;34m)\u001b[0m\u001b[0;34m:\u001b[0m\u001b[0;34m\u001b[0m\u001b[0;34m\u001b[0m\u001b[0m\n\u001b[0;32m---> 25\u001b[0;31m     \u001b[0mcursor\u001b[0m\u001b[0;34m.\u001b[0m\u001b[0mexecute\u001b[0m\u001b[0;34m(\u001b[0m\u001b[0msql_command\u001b[0m\u001b[0;34m[\u001b[0m\u001b[0mi\u001b[0m\u001b[0;34m]\u001b[0m\u001b[0;34m)\u001b[0m\u001b[0;34m\u001b[0m\u001b[0;34m\u001b[0m\u001b[0m\n\u001b[0m\u001b[1;32m     26\u001b[0m \u001b[0mconn\u001b[0m\u001b[0;34m.\u001b[0m\u001b[0mcommit\u001b[0m\u001b[0;34m(\u001b[0m\u001b[0;34m)\u001b[0m\u001b[0;34m\u001b[0m\u001b[0;34m\u001b[0m\u001b[0m\n\u001b[1;32m     27\u001b[0m \u001b[0mconn\u001b[0m\u001b[0;34m.\u001b[0m\u001b[0mclose\u001b[0m\u001b[0;34m(\u001b[0m\u001b[0;34m)\u001b[0m\u001b[0;34m\u001b[0m\u001b[0;34m\u001b[0m\u001b[0m\n",
      "\u001b[0;32m/usr/lib/python3.7/site-packages/MySQLdb/cursors.py\u001b[0m in \u001b[0;36mexecute\u001b[0;34m(self, query, args)\u001b[0m\n\u001b[1;32m    207\u001b[0m \u001b[0;34m\u001b[0m\u001b[0m\n\u001b[1;32m    208\u001b[0m         \u001b[0;32massert\u001b[0m \u001b[0misinstance\u001b[0m\u001b[0;34m(\u001b[0m\u001b[0mquery\u001b[0m\u001b[0;34m,\u001b[0m \u001b[0;34m(\u001b[0m\u001b[0mbytes\u001b[0m\u001b[0;34m,\u001b[0m \u001b[0mbytearray\u001b[0m\u001b[0;34m)\u001b[0m\u001b[0;34m)\u001b[0m\u001b[0;34m\u001b[0m\u001b[0;34m\u001b[0m\u001b[0m\n\u001b[0;32m--> 209\u001b[0;31m         \u001b[0mres\u001b[0m \u001b[0;34m=\u001b[0m \u001b[0mself\u001b[0m\u001b[0;34m.\u001b[0m\u001b[0m_query\u001b[0m\u001b[0;34m(\u001b[0m\u001b[0mquery\u001b[0m\u001b[0;34m)\u001b[0m\u001b[0;34m\u001b[0m\u001b[0;34m\u001b[0m\u001b[0m\n\u001b[0m\u001b[1;32m    210\u001b[0m         \u001b[0;32mreturn\u001b[0m \u001b[0mres\u001b[0m\u001b[0;34m\u001b[0m\u001b[0;34m\u001b[0m\u001b[0m\n\u001b[1;32m    211\u001b[0m \u001b[0;34m\u001b[0m\u001b[0m\n",
      "\u001b[0;32m/usr/lib/python3.7/site-packages/MySQLdb/cursors.py\u001b[0m in \u001b[0;36m_query\u001b[0;34m(self, q)\u001b[0m\n\u001b[1;32m    313\u001b[0m         \u001b[0mdb\u001b[0m \u001b[0;34m=\u001b[0m \u001b[0mself\u001b[0m\u001b[0;34m.\u001b[0m\u001b[0m_get_db\u001b[0m\u001b[0;34m(\u001b[0m\u001b[0;34m)\u001b[0m\u001b[0;34m\u001b[0m\u001b[0;34m\u001b[0m\u001b[0m\n\u001b[1;32m    314\u001b[0m         \u001b[0mself\u001b[0m\u001b[0;34m.\u001b[0m\u001b[0m_result\u001b[0m \u001b[0;34m=\u001b[0m \u001b[0;32mNone\u001b[0m\u001b[0;34m\u001b[0m\u001b[0;34m\u001b[0m\u001b[0m\n\u001b[0;32m--> 315\u001b[0;31m         \u001b[0mdb\u001b[0m\u001b[0;34m.\u001b[0m\u001b[0mquery\u001b[0m\u001b[0;34m(\u001b[0m\u001b[0mq\u001b[0m\u001b[0;34m)\u001b[0m\u001b[0;34m\u001b[0m\u001b[0;34m\u001b[0m\u001b[0m\n\u001b[0m\u001b[1;32m    316\u001b[0m         \u001b[0mself\u001b[0m\u001b[0;34m.\u001b[0m\u001b[0m_do_get_result\u001b[0m\u001b[0;34m(\u001b[0m\u001b[0mdb\u001b[0m\u001b[0;34m)\u001b[0m\u001b[0;34m\u001b[0m\u001b[0;34m\u001b[0m\u001b[0m\n\u001b[1;32m    317\u001b[0m         \u001b[0mself\u001b[0m\u001b[0;34m.\u001b[0m\u001b[0m_post_get_result\u001b[0m\u001b[0;34m(\u001b[0m\u001b[0;34m)\u001b[0m\u001b[0;34m\u001b[0m\u001b[0;34m\u001b[0m\u001b[0m\n",
      "\u001b[0;32m/usr/lib/python3.7/site-packages/MySQLdb/connections.py\u001b[0m in \u001b[0;36mquery\u001b[0;34m(self, query)\u001b[0m\n\u001b[1;32m    237\u001b[0m         \u001b[0;32mif\u001b[0m \u001b[0misinstance\u001b[0m\u001b[0;34m(\u001b[0m\u001b[0mquery\u001b[0m\u001b[0;34m,\u001b[0m \u001b[0mbytearray\u001b[0m\u001b[0;34m)\u001b[0m\u001b[0;34m:\u001b[0m\u001b[0;34m\u001b[0m\u001b[0;34m\u001b[0m\u001b[0m\n\u001b[1;32m    238\u001b[0m             \u001b[0mquery\u001b[0m \u001b[0;34m=\u001b[0m \u001b[0mbytes\u001b[0m\u001b[0;34m(\u001b[0m\u001b[0mquery\u001b[0m\u001b[0;34m)\u001b[0m\u001b[0;34m\u001b[0m\u001b[0;34m\u001b[0m\u001b[0m\n\u001b[0;32m--> 239\u001b[0;31m         \u001b[0m_mysql\u001b[0m\u001b[0;34m.\u001b[0m\u001b[0mconnection\u001b[0m\u001b[0;34m.\u001b[0m\u001b[0mquery\u001b[0m\u001b[0;34m(\u001b[0m\u001b[0mself\u001b[0m\u001b[0;34m,\u001b[0m \u001b[0mquery\u001b[0m\u001b[0;34m)\u001b[0m\u001b[0;34m\u001b[0m\u001b[0;34m\u001b[0m\u001b[0m\n\u001b[0m\u001b[1;32m    240\u001b[0m \u001b[0;34m\u001b[0m\u001b[0m\n\u001b[1;32m    241\u001b[0m     \u001b[0;32mdef\u001b[0m \u001b[0m_bytes_literal\u001b[0m\u001b[0;34m(\u001b[0m\u001b[0mself\u001b[0m\u001b[0;34m,\u001b[0m \u001b[0mbs\u001b[0m\u001b[0;34m)\u001b[0m\u001b[0;34m:\u001b[0m\u001b[0;34m\u001b[0m\u001b[0;34m\u001b[0m\u001b[0m\n",
      "\u001b[0;31mProgrammingError\u001b[0m: (1064, \"You have an error in your SQL syntax; check the manual that corresponds to your MariaDB server version for the right syntax to use near 's for met data. ' , 'IVS')' at line 1\")"
     ]
    }
   ],
   "source": [
    "file_report = 'analysis_reports/' + str(exp_code) + '_report.txt'\n",
    "file_spool = 'analysis_reports/' + str(exp_code) + '_spoolfile.txt'\n",
    "with open(file_report) as file:\n",
    "    contents_report = file.read()\n",
    "    sections = contents_report.split('-----------------------------------------')\n",
    "with open(file_spool) as file:\n",
    "    contents_spool = file.read()\n",
    "    \n",
    "meta = metaData(sections[0])\n",
    "performance = stationPerformance(sections[2])\n",
    "problems = problemFinder(sections[0])\n",
    "position = stationPositions(contents_spool)\n",
    "\n",
    "sql_command = []\n",
    "station_id = ['Ke', 'Yg', 'Hb', 'Ho']\n",
    "for i in range(0, len(performance)):\n",
    "    if performance[i] == None:\n",
    "        continue\n",
    "    else:\n",
    "        sql_station = \"INSERT IGNORE INTO \" + station_id[i] + \" (ExpID, Performance, Date, Pos_X, Pos_Y, Pos_Z, Problem, Problem_String, Analyser) VALUES ('{}', {},'{}', {}, {}, {}, {}, '{}' , '{}');\".format(meta[0], performance[i], meta[2], position[i][0], position[i][1], position[i][2], problems[0][i], problems[1][i], meta[1])\n",
    "        sql_command.append(sql_station)\n",
    "conn = mariadb.connect(user='auscope', passwd='password', db=str(db_name))\n",
    "cursor = conn.cursor()\n",
    "for i in range(0,len(sql_command)):\n",
    "    cursor.execute(sql_command[i])\n",
    "conn.commit()\n",
    "conn.close() "
   ]
  },
  {
   "cell_type": "code",
   "execution_count": 62,
   "metadata": {},
   "outputs": [],
   "source": [
    "file_report = 'analysis_reports/' + str(exp_code) + '_report.txt'\n",
    "file_spool = 'analysis_reports/' + str(exp_code) + '_spoolfile.txt'\n",
    "with open(file_report) as file:\n",
    "    contents_report = file.read()\n",
    "    sections = contents_report.split('-----------------------------------------')\n",
    "with open(file_spool) as file:\n",
    "    contents_spool = file.read()\n",
    "    \n",
    "meta = metaData(sections[0])\n",
    "performance = stationPerformance(sections[2])\n",
    "problems = problemFinder(sections[0])\n",
    "position = stationPositions(contents_spool)\n",
    "\n",
    "sql_command = []\n",
    "station_id = [\"Ke\", \"Yg\", \"Hb\", \"Ho\"]\n",
    "for i in range(0, len(performance)):\n",
    "    if performance[i] == None:\n",
    "        continue\n",
    "    else:\n",
    "        sql_station = \"INSERT IGNORE INTO {} (ExpID, Performance, Date, Pos_X, Pos_Y, Pos_Z, Problem, Problem_String, Analyser) VALUES (%s, %s, %s, %s, %s, %s, %s, %s, %s);\".format(station_id[i])\n",
    "        data = [meta[0], performance[i], meta[2], position[i][0], position[i][1], position[i][2], problems[0][i], problems[1][i], meta[1]]\n",
    "        conn = mariadb.connect(user='auscope', passwd='password', db=str(db_name))\n",
    "        cursor = conn.cursor()\n",
    "        cursor.execute(sql_station, data)\n",
    "        conn.commit()\n",
    "conn.close() "
   ]
  },
  {
   "cell_type": "code",
   "execution_count": 63,
   "metadata": {},
   "outputs": [
    {
     "data": {
      "text/plain": [
       "'INSERT IGNORE INTO Yg (ExpID, Performance, Date, Pos_X, Pos_Y, Pos_Z, Problem, Problem_String, Analyser) VALUES (%s, %s, %s, %s, %s, %s, %s, %s, %s);'"
      ]
     },
     "execution_count": 63,
     "metadata": {},
     "output_type": "execute_result"
    }
   ],
   "source": [
    "sql_station"
   ]
  },
  {
   "cell_type": "code",
   "execution_count": 42,
   "metadata": {},
   "outputs": [],
   "source": [
    "def test(exp_code, db_name):\n",
    "    file_report = 'analysis_reports/' + str(exp_code) + '_report.txt'\n",
    "    file_spool = 'analysis_reports/' + str(exp_code) + '_spoolfile.txt'\n",
    "    with open(file_report) as file:\n",
    "        contents_report = file.read()\n",
    "        sections = contents_report.split('-----------------------------------------')\n",
    "    with open(file_spool) as file:\n",
    "        contents_spool = file.read()\n",
    "    \n",
    "    meta = metaData(sections[0])\n",
    "    performance = stationPerformance(sections[2])\n",
    "    problems = problemFinder(sections[0])\n",
    "    position = stationPositions(contents_spool)\n",
    "    \n",
    "    sql_command = []\n",
    "    station_id = ['Ke', 'Yg', 'Hb', 'Ho']\n",
    "    for i in range(0, len(performance)):\n",
    "        if performance[i] == None:\n",
    "            continue\n",
    "        else:\n",
    "            sql_station = \"INSERT IGNORE INTO \" + station_id[i] + \" (ExpID, Performance, Date, Pos_X, Pos_Y, Pos_Z, Problem, Problem_String, Analyser) VALUES ('{}', {},'{}', {}, {}, {}, {}, '{}' , '{}');\".format(meta[0], performance[i], meta[2], position[i][0], position[i][1], position[i][2], problems[0][i], problems[1][i], meta[1])\n",
    "            sql_command.append(sql_station)\n",
    "    conn = mariadb.connect(user='auscope', passwd='password', db=str(db_name))\n",
    "    cursor = conn.cursor()\n",
    "    for i in range(0,len(sql_command)):\n",
    "        cursor.execute(sql_command[i])\n",
    "    conn.commit()\n",
    "    conn.close() \n"
   ]
  },
  {
   "cell_type": "code",
   "execution_count": 43,
   "metadata": {},
   "outputs": [
    {
     "ename": "FileNotFoundError",
     "evalue": "[Errno 2] No such file or directory: 'analysis_reports/aua048_report.txt'",
     "output_type": "error",
     "traceback": [
      "\u001b[0;31m---------------------------------------------------------------------------\u001b[0m",
      "\u001b[0;31mFileNotFoundError\u001b[0m                         Traceback (most recent call last)",
      "\u001b[0;32m<ipython-input-43-accdb07b818c>\u001b[0m in \u001b[0;36m<module>\u001b[0;34m\u001b[0m\n\u001b[0;32m----> 1\u001b[0;31m \u001b[0mtest\u001b[0m\u001b[0;34m(\u001b[0m\u001b[0;34m'aua048'\u001b[0m\u001b[0;34m,\u001b[0m\u001b[0;34m'auscope_test'\u001b[0m\u001b[0;34m)\u001b[0m\u001b[0;34m\u001b[0m\u001b[0;34m\u001b[0m\u001b[0m\n\u001b[0m",
      "\u001b[0;32m<ipython-input-42-cf88aa93dd62>\u001b[0m in \u001b[0;36mtest\u001b[0;34m(exp_code, db_name)\u001b[0m\n\u001b[1;32m      4\u001b[0m     \u001b[0mfile_report\u001b[0m \u001b[0;34m=\u001b[0m \u001b[0;34m'analysis_reports/'\u001b[0m \u001b[0;34m+\u001b[0m \u001b[0mstr\u001b[0m\u001b[0;34m(\u001b[0m\u001b[0mexp_code\u001b[0m\u001b[0;34m)\u001b[0m \u001b[0;34m+\u001b[0m \u001b[0;34m'_report.txt'\u001b[0m\u001b[0;34m\u001b[0m\u001b[0;34m\u001b[0m\u001b[0m\n\u001b[1;32m      5\u001b[0m     \u001b[0mfile_spool\u001b[0m \u001b[0;34m=\u001b[0m \u001b[0;34m'analysis_reports/'\u001b[0m \u001b[0;34m+\u001b[0m \u001b[0mstr\u001b[0m\u001b[0;34m(\u001b[0m\u001b[0mexp_code\u001b[0m\u001b[0;34m)\u001b[0m \u001b[0;34m+\u001b[0m \u001b[0;34m'_spoolfile.txt'\u001b[0m\u001b[0;34m\u001b[0m\u001b[0;34m\u001b[0m\u001b[0m\n\u001b[0;32m----> 6\u001b[0;31m     \u001b[0;32mwith\u001b[0m \u001b[0mopen\u001b[0m\u001b[0;34m(\u001b[0m\u001b[0mfile_report\u001b[0m\u001b[0;34m)\u001b[0m \u001b[0;32mas\u001b[0m \u001b[0mfile\u001b[0m\u001b[0;34m:\u001b[0m\u001b[0;34m\u001b[0m\u001b[0;34m\u001b[0m\u001b[0m\n\u001b[0m\u001b[1;32m      7\u001b[0m         \u001b[0mcontents_report\u001b[0m \u001b[0;34m=\u001b[0m \u001b[0mfile\u001b[0m\u001b[0;34m.\u001b[0m\u001b[0mread\u001b[0m\u001b[0;34m(\u001b[0m\u001b[0;34m)\u001b[0m\u001b[0;34m\u001b[0m\u001b[0;34m\u001b[0m\u001b[0m\n\u001b[1;32m      8\u001b[0m         \u001b[0msections\u001b[0m \u001b[0;34m=\u001b[0m \u001b[0mcontents_report\u001b[0m\u001b[0;34m.\u001b[0m\u001b[0msplit\u001b[0m\u001b[0;34m(\u001b[0m\u001b[0;34m'-----------------------------------------'\u001b[0m\u001b[0;34m)\u001b[0m\u001b[0;34m\u001b[0m\u001b[0;34m\u001b[0m\u001b[0m\n",
      "\u001b[0;31mFileNotFoundError\u001b[0m: [Errno 2] No such file or directory: 'analysis_reports/aua048_report.txt'"
     ]
    }
   ],
   "source": [
    "test('aua048','auscope_test')"
   ]
  },
  {
   "cell_type": "code",
   "execution_count": 42,
   "metadata": {},
   "outputs": [
    {
     "data": {
      "text/plain": [
       "'INSERT IGNORE INTO Ke (ExpID, Performance, Date, Pos_X, Pos_Y, Pos_Z, Problem, Problem_String, Analyser) VALUES (%s, %s,%s, %s, %s, %s, %s, %s , %s);'"
      ]
     },
     "execution_count": 42,
     "metadata": {},
     "output_type": "execute_result"
    }
   ],
   "source": [
    "sql_station\n"
   ]
  },
  {
   "cell_type": "code",
   "execution_count": 19,
   "metadata": {},
   "outputs": [
    {
     "data": {
      "text/plain": [
       "[['', '', ''],\n",
       " ['-2388896314.52', '5043349951.73', '-3078590623.79'],\n",
       " ['', '', ''],\n",
       " ['', '', '']]"
      ]
     },
     "execution_count": 19,
     "metadata": {},
     "output_type": "execute_result"
    }
   ],
   "source": [
    "position"
   ]
  },
  {
   "cell_type": "code",
   "execution_count": 37,
   "metadata": {},
   "outputs": [
    {
     "data": {
      "text/plain": [
       "[\"INSERT IGNORE INTO Ke (ExpID, Performance, Date, Pos_X, Pos_Y, Pos_Z, Problem, Problem_String, Analyser) VALUES (R1892, 0.764,2019-04-29, -4147354862.32, 4581542304.54, -1573302867.42, True, KATH12M log has all zero's for met data.  , IVS);\",\n",
       " 'INSERT IGNORE INTO Yg (ExpID, Performance, Date, Pos_X, Pos_Y, Pos_Z, Problem, Problem_String, Analyser) VALUES (R1892, 0.846,2019-04-29, -2388896423.75, 5043350053.29, -3078590544.58, True, YARRA12M: Clock breaks used at 00:36, 09:51 and 15:05. Three , IVS);']"
      ]
     },
     "execution_count": 37,
     "metadata": {},
     "output_type": "execute_result"
    }
   ],
   "source": [
    "sql_command"
   ]
  },
  {
   "cell_type": "code",
   "execution_count": null,
   "metadata": {},
   "outputs": [],
   "source": []
  }
 ],
 "metadata": {
  "kernelspec": {
   "display_name": "Python 3",
   "language": "python",
   "name": "python3"
  },
  "language_info": {
   "codemirror_mode": {
    "name": "ipython",
    "version": 3
   },
   "file_extension": ".py",
   "mimetype": "text/x-python",
   "name": "python",
   "nbconvert_exporter": "python",
   "pygments_lexer": "ipython3",
   "version": "3.7.3"
  }
 },
 "nbformat": 4,
 "nbformat_minor": 2
}
